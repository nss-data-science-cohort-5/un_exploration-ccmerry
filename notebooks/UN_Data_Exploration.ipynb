{
 "cells": [
  {
   "cell_type": "code",
   "execution_count": 1,
   "id": "92bcfa99",
   "metadata": {},
   "outputs": [],
   "source": [
    "import pandas as pd\n",
    "import numpy as np\n",
    "import matplotlib.pyplot as plt\n",
    "import seaborn as sns\n",
    "\n",
    "%matplotlib inline"
   ]
  },
  {
   "cell_type": "code",
   "execution_count": 2,
   "id": "17e6588a",
   "metadata": {},
   "outputs": [],
   "source": [
    "gdp_df = pd.read_csv(\"../data/gdp_per_capita.csv\",keep_default_na = False, skipfooter = 3,engine='python')"
   ]
  },
  {
   "cell_type": "code",
   "execution_count": 3,
   "id": "ade4b9a3",
   "metadata": {},
   "outputs": [],
   "source": [
    "gdp_df = gdp_df.drop(columns = ['Value Footnotes'])"
   ]
  },
  {
   "cell_type": "code",
   "execution_count": 4,
   "id": "e5b6a4d0",
   "metadata": {},
   "outputs": [],
   "source": [
    "gdp_df = gdp_df.rename(columns={'Country or Area': 'Country', 'Value': 'GDP_Per_Capita'})"
   ]
  },
  {
   "cell_type": "code",
   "execution_count": 5,
   "id": "c7743f45",
   "metadata": {},
   "outputs": [
    {
     "name": "stdout",
     "output_type": "stream",
     "text": [
      "          Country  Year  GDP_Per_Capita\n",
      "0     Afghanistan  2019     2065.036398\n",
      "1     Afghanistan  2018     2033.779002\n",
      "2     Afghanistan  2017     2058.383832\n",
      "3     Afghanistan  2016     2057.062164\n",
      "4     Afghanistan  2015     2068.265904\n",
      "...           ...   ...             ...\n",
      "6863     Zimbabwe  1994     3263.934978\n",
      "6864     Zimbabwe  1993     3033.504852\n",
      "6865     Zimbabwe  1992     3054.889178\n",
      "6866     Zimbabwe  1991     3426.598094\n",
      "6867     Zimbabwe  1990     3324.348171\n",
      "\n",
      "[6868 rows x 3 columns]\n"
     ]
    }
   ],
   "source": [
    "print(gdp_df)"
   ]
  },
  {
   "cell_type": "code",
   "execution_count": 6,
   "id": "92ad51a0",
   "metadata": {},
   "outputs": [
    {
     "name": "stdout",
     "output_type": "stream",
     "text": [
      "<class 'pandas.core.frame.DataFrame'>\n",
      "RangeIndex: 6868 entries, 0 to 6867\n",
      "Data columns (total 3 columns):\n",
      " #   Column          Non-Null Count  Dtype  \n",
      "---  ------          --------------  -----  \n",
      " 0   Country         6868 non-null   object \n",
      " 1   Year            6868 non-null   int64  \n",
      " 2   GDP_Per_Capita  6868 non-null   float64\n",
      "dtypes: float64(1), int64(1), object(1)\n",
      "memory usage: 161.1+ KB\n",
      "None\n"
     ]
    }
   ],
   "source": [
    "print(gdp_df.info())"
   ]
  },
  {
   "cell_type": "code",
   "execution_count": 7,
   "id": "e1c8fe70",
   "metadata": {},
   "outputs": [
    {
     "name": "stdout",
     "output_type": "stream",
     "text": [
      "2013    238\n",
      "2014    238\n",
      "2016    238\n",
      "2015    238\n",
      "2017    238\n",
      "2012    237\n",
      "2018    237\n",
      "2011    237\n",
      "2009    236\n",
      "2010    236\n",
      "2007    235\n",
      "2008    235\n",
      "2006    235\n",
      "2004    234\n",
      "2005    234\n",
      "2002    233\n",
      "2003    233\n",
      "2001    232\n",
      "2019    231\n",
      "2000    231\n",
      "1999    224\n",
      "1998    223\n",
      "1997    223\n",
      "1996    221\n",
      "1995    221\n",
      "1994    214\n",
      "1993    212\n",
      "1992    209\n",
      "1991    208\n",
      "1990    207\n",
      "Name: Year, dtype: int64\n"
     ]
    }
   ],
   "source": [
    "print(gdp_df[\"Year\"].value_counts())"
   ]
  },
  {
   "cell_type": "code",
   "execution_count": 8,
   "id": "46dc0b24",
   "metadata": {},
   "outputs": [
    {
     "name": "stdout",
     "output_type": "stream",
     "text": [
      "East Asia & Pacific (IDA & IBRD)    30\n",
      "Malawi                              30\n",
      "Italy                               30\n",
      "Australia                           30\n",
      "Japan                               30\n",
      "                                    ..\n",
      "Nauru                               16\n",
      "Cayman Islands                      13\n",
      "Sint Maarten (Dutch part)           10\n",
      "Turks and Caicos Islands             9\n",
      "Djibouti                             7\n",
      "Name: Country, Length: 238, dtype: int64\n"
     ]
    }
   ],
   "source": [
    "print(gdp_df[\"Country\"].value_counts())"
   ]
  },
  {
   "cell_type": "code",
   "execution_count": 9,
   "id": "bc64cb40",
   "metadata": {},
   "outputs": [],
   "source": [
    "gdp_2014 = gdp_df[gdp_df[\"Year\"] == 2014]"
   ]
  },
  {
   "cell_type": "code",
   "execution_count": 10,
   "id": "a1946379",
   "metadata": {},
   "outputs": [
    {
     "name": "stdout",
     "output_type": "stream",
     "text": [
      "                  Country  Year  GDP_Per_Capita\n",
      "5             Afghanistan  2014     2102.385234\n",
      "23                Albania  2014    11623.866679\n",
      "53                Algeria  2014    11512.705405\n",
      "83                 Angola  2014     8239.828837\n",
      "113   Antigua and Barbuda  2014    18104.241470\n",
      "...                   ...   ...             ...\n",
      "6727              Vietnam  2014     6098.489609\n",
      "6757   West Bank and Gaza  2014     5967.073437\n",
      "6783                World  2014    15189.648507\n",
      "6813               Zambia  2014     3450.046561\n",
      "6843             Zimbabwe  2014     2955.240287\n",
      "\n",
      "[238 rows x 3 columns]\n"
     ]
    }
   ],
   "source": [
    "print(gdp_2014)"
   ]
  },
  {
   "cell_type": "code",
   "execution_count": 11,
   "id": "bfbb896b",
   "metadata": {},
   "outputs": [
    {
     "data": {
      "text/html": [
       "<div>\n",
       "<style scoped>\n",
       "    .dataframe tbody tr th:only-of-type {\n",
       "        vertical-align: middle;\n",
       "    }\n",
       "\n",
       "    .dataframe tbody tr th {\n",
       "        vertical-align: top;\n",
       "    }\n",
       "\n",
       "    .dataframe thead th {\n",
       "        text-align: right;\n",
       "    }\n",
       "</style>\n",
       "<table border=\"1\" class=\"dataframe\">\n",
       "  <thead>\n",
       "    <tr style=\"text-align: right;\">\n",
       "      <th></th>\n",
       "      <th>Year</th>\n",
       "      <th>GDP_Per_Capita</th>\n",
       "    </tr>\n",
       "  </thead>\n",
       "  <tbody>\n",
       "    <tr>\n",
       "      <th>count</th>\n",
       "      <td>238.0</td>\n",
       "      <td>238.000000</td>\n",
       "    </tr>\n",
       "    <tr>\n",
       "      <th>mean</th>\n",
       "      <td>2014.0</td>\n",
       "      <td>19766.710348</td>\n",
       "    </tr>\n",
       "    <tr>\n",
       "      <th>std</th>\n",
       "      <td>0.0</td>\n",
       "      <td>20983.869623</td>\n",
       "    </tr>\n",
       "    <tr>\n",
       "      <th>min</th>\n",
       "      <td>2014.0</td>\n",
       "      <td>822.610458</td>\n",
       "    </tr>\n",
       "    <tr>\n",
       "      <th>25%</th>\n",
       "      <td>2014.0</td>\n",
       "      <td>4753.110934</td>\n",
       "    </tr>\n",
       "    <tr>\n",
       "      <th>50%</th>\n",
       "      <td>2014.0</td>\n",
       "      <td>12209.385755</td>\n",
       "    </tr>\n",
       "    <tr>\n",
       "      <th>75%</th>\n",
       "      <td>2014.0</td>\n",
       "      <td>26803.610474</td>\n",
       "    </tr>\n",
       "    <tr>\n",
       "      <th>max</th>\n",
       "      <td>2014.0</td>\n",
       "      <td>156514.133850</td>\n",
       "    </tr>\n",
       "  </tbody>\n",
       "</table>\n",
       "</div>"
      ],
      "text/plain": [
       "         Year  GDP_Per_Capita\n",
       "count   238.0      238.000000\n",
       "mean   2014.0    19766.710348\n",
       "std       0.0    20983.869623\n",
       "min    2014.0      822.610458\n",
       "25%    2014.0     4753.110934\n",
       "50%    2014.0    12209.385755\n",
       "75%    2014.0    26803.610474\n",
       "max    2014.0   156514.133850"
      ]
     },
     "execution_count": 11,
     "metadata": {},
     "output_type": "execute_result"
    }
   ],
   "source": [
    "gdp_2014.describe()"
   ]
  },
  {
   "cell_type": "code",
   "execution_count": 12,
   "id": "9274dbb7",
   "metadata": {},
   "outputs": [
    {
     "data": {
      "text/plain": [
       "(array([146.,  41.,  25.,  18.,   4.,   1.,   2.,   0.,   0.,   1.]),\n",
       " array([   822.61045782,  16391.76279701,  31960.91513621,  47530.06747541,\n",
       "         63099.2198146 ,  78668.3721538 ,  94237.524493  , 109806.67683219,\n",
       "        125375.82917139, 140944.98151059, 156514.13384978]),\n",
       " <BarContainer object of 10 artists>)"
      ]
     },
     "execution_count": 12,
     "metadata": {},
     "output_type": "execute_result"
    },
    {
     "data": {
      "image/png": "[encoded data removed]",
      "text/plain": [
       "<Figure size 432x288 with 1 Axes>"
      ]
     },
     "metadata": {
      "needs_background": "light"
     },
     "output_type": "display_data"
    }
   ],
   "source": [
    "plt.hist(gdp_2014[\"GDP_Per_Capita\"],bins = 10, log = True)"
   ]
  },
  {
   "cell_type": "code",
   "execution_count": 13,
   "id": "01b7856d",
   "metadata": {},
   "outputs": [],
   "source": [
    "gdp_2014_sorted = gdp_2014.sort_values('GDP_Per_Capita',ascending = False)"
   ]
  },
  {
   "cell_type": "code",
   "execution_count": 14,
   "id": "8870b77f",
   "metadata": {},
   "outputs": [
    {
     "name": "stdout",
     "output_type": "stream",
     "text": [
      "3721    Macao SAR, China\n",
      "3691          Luxembourg\n",
      "5138               Qatar\n",
      "5464           Singapore\n",
      "561              Bermuda\n",
      "Name: Country, dtype: object\n"
     ]
    }
   ],
   "source": [
    "print(gdp_2014_sorted[\"Country\"][:5])"
   ]
  },
  {
   "cell_type": "code",
   "execution_count": 15,
   "id": "bb133646",
   "metadata": {},
   "outputs": [
    {
     "name": "stdout",
     "output_type": "stream",
     "text": [
      "4528                       Niger\n",
      "1422             Dem. Rep. Congo\n",
      "3781                      Malawi\n",
      "827                      Burundi\n",
      "1047    Central African Republic\n",
      "Name: Country, dtype: object\n"
     ]
    }
   ],
   "source": [
    "print(gdp_2014_sorted[\"Country\"][-5:])"
   ]
  },
  {
   "cell_type": "code",
   "execution_count": 16,
   "id": "d10d97a3",
   "metadata": {},
   "outputs": [
    {
     "name": "stdout",
     "output_type": "stream",
     "text": [
      "Year                         1990          2017\n",
      "Albania               4842.734635  12811.759436\n",
      "Algeria               8746.352901  11737.409353\n",
      "Angola                5783.429064   7310.901738\n",
      "Antigua and Barbuda  15459.551675  19840.076123\n",
      "Arab World            9694.667544  14555.474921\n",
      "...                           ...           ...\n",
      "Vanuatu               2888.309393   3116.645194\n",
      "Vietnam               1673.249634   7155.745829\n",
      "World                 9680.269697  16253.385518\n",
      "Zambia                2190.182814   3485.005238\n",
      "Zimbabwe              3324.348171   3028.245976\n",
      "\n",
      "[207 rows x 2 columns]\n"
     ]
    }
   ],
   "source": [
    "gdp_pivoted = pd.pivot_table(gdp_df[(gdp_df[\"Year\"] == (2017)) | (gdp_df[\"Year\"] == (1990))], values = \"GDP_Per_Capita\", index = [\"Country\"], columns = \"Year\", dropna = True)\n",
    "gdp_pivoted = gdp_pivoted.dropna()\n",
    "gdp_pivoted.index.name = None\n",
    "print(gdp_pivoted)"
   ]
  },
  {
   "cell_type": "code",
   "execution_count": 17,
   "id": "94e5d8f5",
   "metadata": {},
   "outputs": [
    {
     "name": "stdout",
     "output_type": "stream",
     "text": [
      "Year                         1990          2017  Percent_Change\n",
      "Albania               4842.734635  12811.759436      164.556297\n",
      "Algeria               8746.352901  11737.409353       34.197756\n",
      "Angola                5783.429064   7310.901738       26.411194\n",
      "Antigua and Barbuda  15459.551675  19840.076123       28.335391\n",
      "Arab World            9694.667544  14555.474921       50.138980\n",
      "...                           ...           ...             ...\n",
      "Vanuatu               2888.309393   3116.645194        7.905517\n",
      "Vietnam               1673.249634   7155.745829      327.655604\n",
      "World                 9680.269697  16253.385518       67.902197\n",
      "Zambia                2190.182814   3485.005238       59.119377\n",
      "Zimbabwe              3324.348171   3028.245976       -8.907075\n",
      "\n",
      "[207 rows x 3 columns]\n"
     ]
    }
   ],
   "source": [
    "gdp_pivoted[\"Percent_Change\"] = 100*(gdp_pivoted[2017]-gdp_pivoted[1990]) / gdp_pivoted[1990]\n",
    "print(gdp_pivoted)"
   ]
  },
  {
   "cell_type": "code",
   "execution_count": 18,
   "id": "1955a07a",
   "metadata": {},
   "outputs": [
    {
     "name": "stdout",
     "output_type": "stream",
     "text": [
      "17\n"
     ]
    }
   ],
   "source": [
    "gdp_neg = gdp_pivoted[gdp_pivoted[\"Percent_Change\"] < 0]\n",
    "print(gdp_neg[\"Percent_Change\"].count())"
   ]
  },
  {
   "cell_type": "code",
   "execution_count": 19,
   "id": "cb1a674a",
   "metadata": {},
   "outputs": [
    {
     "name": "stdout",
     "output_type": "stream",
     "text": [
      "Equatorial Guinea    2068.404561\n",
      "Name: Percent_Change, dtype: float64\n",
      "China    907.406281\n",
      "Name: Percent_Change, dtype: float64\n"
     ]
    }
   ],
   "source": [
    "print(gdp_pivoted[\"Percent_Change\"].sort_values(ascending = False)[:1])\n",
    "print(gdp_pivoted[\"Percent_Change\"].sort_values(ascending = False)[1:2])"
   ]
  },
  {
   "cell_type": "code",
   "execution_count": 20,
   "id": "7f7aa319",
   "metadata": {},
   "outputs": [
    {
     "data": {
      "text/plain": [
       "[<matplotlib.lines.Line2D at 0x1c52324f2b0>]"
      ]
     },
     "execution_count": 20,
     "metadata": {},
     "output_type": "execute_result"
    },
    {
     "data": {
      "image/png": "[encoded data removed]",
      "text/plain": [
       "<Figure size 432x288 with 1 Axes>"
      ]
     },
     "metadata": {
      "needs_background": "light"
     },
     "output_type": "display_data"
    }
   ],
   "source": [
    "one_gdp_g = gdp_df[gdp_df[\"Country\"] == \"Equatorial Guinea\"]\n",
    "plt.plot(one_gdp_g[\"Year\"],one_gdp_g[\"GDP_Per_Capita\"])"
   ]
  },
  {
   "cell_type": "code",
   "execution_count": 21,
   "id": "e29530a3",
   "metadata": {},
   "outputs": [
    {
     "data": {
      "text/plain": [
       "[<matplotlib.lines.Line2D at 0x1c5232a4b20>]"
      ]
     },
     "execution_count": 21,
     "metadata": {},
     "output_type": "execute_result"
    },
    {
     "data": {
      "image/png": "[encoded data removed]",
      "text/plain": [
       "<Figure size 432x288 with 1 Axes>"
      ]
     },
     "metadata": {
      "needs_background": "light"
     },
     "output_type": "display_data"
    }
   ],
   "source": [
    "two_gdp_g = gdp_df[gdp_df[\"Country\"] == \"China\"]\n",
    "plt.plot(two_gdp_g[\"Year\"],two_gdp_g[\"GDP_Per_Capita\"])"
   ]
  },
  {
   "cell_type": "code",
   "execution_count": 22,
   "id": "ddb22290",
   "metadata": {},
   "outputs": [
    {
     "data": {
      "text/plain": [
       "[<matplotlib.lines.Line2D at 0x1c523302970>]"
      ]
     },
     "execution_count": 22,
     "metadata": {},
     "output_type": "execute_result"
    },
    {
     "data": {
      "image/png": "[encoded data removed]",
      "text/plain": [
       "<Figure size 432x288 with 1 Axes>"
      ]
     },
     "metadata": {
      "needs_background": "light"
     },
     "output_type": "display_data"
    }
   ],
   "source": [
    "plt.plot(two_gdp_g[\"Year\"],two_gdp_g[\"GDP_Per_Capita\"])\n",
    "plt.plot(one_gdp_g[\"Year\"],one_gdp_g[\"GDP_Per_Capita\"])"
   ]
  },
  {
   "cell_type": "code",
   "execution_count": 23,
   "id": "c6339050",
   "metadata": {},
   "outputs": [],
   "source": [
    "continents = pd.read_csv(\"../data/continents.csv\")"
   ]
  },
  {
   "cell_type": "code",
   "execution_count": 24,
   "id": "752ac649",
   "metadata": {},
   "outputs": [
    {
     "name": "stdout",
     "output_type": "stream",
     "text": [
      "    Continent             Country\n",
      "0        Asia         Afghanistan\n",
      "1      Europe             Albania\n",
      "2      Africa             Algeria\n",
      "3      Europe             Andorra\n",
      "4      Africa              Angola\n",
      "..        ...                 ...\n",
      "211      Asia             Vietnam\n",
      "212      Asia  West Bank and Gaza\n",
      "213      Asia               Yemen\n",
      "214    Africa              Zambia\n",
      "215    Africa            Zimbabwe\n",
      "\n",
      "[216 rows x 2 columns]\n"
     ]
    }
   ],
   "source": [
    "print(continents)"
   ]
  },
  {
   "cell_type": "code",
   "execution_count": 25,
   "id": "3afa4b41",
   "metadata": {},
   "outputs": [
    {
     "name": "stdout",
     "output_type": "stream",
     "text": [
      "          Country  Year  GDP_Per_Capita Continent\n",
      "0     Afghanistan  2019     2065.036398      Asia\n",
      "1     Afghanistan  2018     2033.779002      Asia\n",
      "2     Afghanistan  2017     2058.383832      Asia\n",
      "3     Afghanistan  2016     2057.062164      Asia\n",
      "4     Afghanistan  2015     2068.265904      Asia\n",
      "...           ...   ...             ...       ...\n",
      "5438     Zimbabwe  1994     3263.934978    Africa\n",
      "5439     Zimbabwe  1993     3033.504852    Africa\n",
      "5440     Zimbabwe  1992     3054.889178    Africa\n",
      "5441     Zimbabwe  1991     3426.598094    Africa\n",
      "5442     Zimbabwe  1990     3324.348171    Africa\n",
      "\n",
      "[5443 rows x 4 columns]\n"
     ]
    }
   ],
   "source": [
    "gdp_df = pd.merge(gdp_df, continents, how = \"inner\", on = \"Country\")\n",
    "print(gdp_df)"
   ]
  },
  {
   "cell_type": "code",
   "execution_count": 26,
   "id": "2bb81560",
   "metadata": {},
   "outputs": [
    {
     "name": "stdout",
     "output_type": "stream",
     "text": [
      "Continent\n",
      "Africa           1428\n",
      "Asia             1240\n",
      "Europe           1290\n",
      "North America     761\n",
      "Oceania           394\n",
      "South America     330\n",
      "Name: Country, dtype: int64\n"
     ]
    }
   ],
   "source": [
    "print(gdp_df.groupby(\"Continent\").count()[\"Country\"])"
   ]
  },
  {
   "cell_type": "code",
   "execution_count": 27,
   "id": "5bdd87f4",
   "metadata": {},
   "outputs": [
    {
     "name": "stdout",
     "output_type": "stream",
     "text": [
      "       Continent  Country  Year  GDP_Per_Capita\n",
      "0         Africa     1428  1428            1428\n",
      "1           Asia     1240  1240            1240\n",
      "2         Europe     1290  1290            1290\n",
      "3  North America      761   761             761\n",
      "4        Oceania      394   394             394\n",
      "5  South America      330   330             330\n"
     ]
    }
   ],
   "source": [
    "gdp_bar = gdp_df.groupby(\"Continent\").count().reset_index()\n",
    "\n",
    "print(gdp_bar)"
   ]
  },
  {
   "cell_type": "code",
   "execution_count": 28,
   "id": "1e89b3b4",
   "metadata": {},
   "outputs": [
    {
     "data": {
      "text/plain": [
       "<BarContainer object of 6 artists>"
      ]
     },
     "execution_count": 28,
     "metadata": {},
     "output_type": "execute_result"
    },
    {
     "data": {
      "image/png": "[encoded data removed]",
      "text/plain": [
       "<Figure size 432x288 with 1 Axes>"
      ]
     },
     "metadata": {
      "needs_background": "light"
     },
     "output_type": "display_data"
    }
   ],
   "source": [
    "plt.bar(x = gdp_bar[\"Continent\"], height = gdp_bar[\"Country\"])\n",
    "#gdp_df.bar(x = gdp_df.groupby(\"Continent\").count())"
   ]
  },
  {
   "cell_type": "code",
   "execution_count": 29,
   "id": "805451bc",
   "metadata": {},
   "outputs": [
    {
     "name": "stdout",
     "output_type": "stream",
     "text": [
      "                Year  GDP_Per_Capita\n",
      "Continent                           \n",
      "Africa         98686    2.928373e+05\n",
      "Asia           86602    1.111780e+06\n",
      "Europe         90630    1.532948e+06\n",
      "North America  52364    6.189731e+05\n",
      "Oceania        28196    1.621359e+05\n",
      "South America  22154    1.707547e+05\n"
     ]
    }
   ],
   "source": [
    "print(gdp_df[gdp_df[\"Year\"]==2014].groupby(\"Continent\").sum())"
   ]
  },
  {
   "cell_type": "code",
   "execution_count": 30,
   "id": "154acaa3",
   "metadata": {},
   "outputs": [
    {
     "data": {
      "image/png": "[encoded data removed]",
      "text/plain": [
       "<Figure size 432x288 with 1 Axes>"
      ]
     },
     "metadata": {
      "needs_background": "light"
     },
     "output_type": "display_data"
    }
   ],
   "source": [
    "sns.boxplot(data = gdp_df[gdp_df[\"Year\"]==2014],x = \"Continent\", y = \"GDP_Per_Capita\");"
   ]
  },
  {
   "cell_type": "code",
   "execution_count": 31,
   "id": "99c3d657",
   "metadata": {},
   "outputs": [
    {
     "name": "stderr",
     "output_type": "stream",
     "text": [
      "Skipping line 4675: ',' expected after '\"'. Error could possibly be due to parsing errors in the skipped footer rows (the skipfooter keyword is only applied after Python's csv library has parsed all rows).\n"
     ]
    }
   ],
   "source": [
    "internet_df = pd.read_csv(\"../data/internet_use.csv\", error_bad_lines=False, keep_default_na = False, skipfooter = 180, engine='python')"
   ]
  },
  {
   "cell_type": "code",
   "execution_count": 32,
   "id": "8504d957",
   "metadata": {},
   "outputs": [
    {
     "name": "stdout",
     "output_type": "stream",
     "text": [
      "     Country or Area  Year     Value Value Footnotes\n",
      "0        Afghanistan  2014  6.390000                \n",
      "1        Afghanistan  2013  5.900000                \n",
      "2        Afghanistan  2012  5.454545                \n",
      "3        Afghanistan  2011  5.000000                \n",
      "4        Afghanistan  2010  4.000000                \n",
      "...              ...   ...       ...             ...\n",
      "4490        Zimbabwe  1997  0.033080                \n",
      "4491        Zimbabwe  1996  0.016790                \n",
      "4492        Zimbabwe  1995  0.007684                \n",
      "4493        Zimbabwe  1994  0.001739                \n",
      "4494        Zimbabwe  1990  0.000000                \n",
      "\n",
      "[4495 rows x 4 columns]\n"
     ]
    }
   ],
   "source": [
    "print(internet_df)"
   ]
  },
  {
   "cell_type": "code",
   "execution_count": 33,
   "id": "70e90508",
   "metadata": {},
   "outputs": [
    {
     "name": "stdout",
     "output_type": "stream",
     "text": [
      "     Country or Area  Year     Value\n",
      "0        Afghanistan  2014  6.390000\n",
      "1        Afghanistan  2013  5.900000\n",
      "2        Afghanistan  2012  5.454545\n",
      "3        Afghanistan  2011  5.000000\n",
      "4        Afghanistan  2010  4.000000\n",
      "...              ...   ...       ...\n",
      "4490        Zimbabwe  1997  0.033080\n",
      "4491        Zimbabwe  1996  0.016790\n",
      "4492        Zimbabwe  1995  0.007684\n",
      "4493        Zimbabwe  1994  0.001739\n",
      "4494        Zimbabwe  1990  0.000000\n",
      "\n",
      "[4495 rows x 3 columns]\n"
     ]
    }
   ],
   "source": [
    "internet_df.drop(\"Value Footnotes\", axis = 1, inplace = True)\n",
    "print(internet_df)"
   ]
  },
  {
   "cell_type": "code",
   "execution_count": 34,
   "id": "6816275e",
   "metadata": {},
   "outputs": [
    {
     "name": "stdout",
     "output_type": "stream",
     "text": [
      "          Country  Year  Internet_Users_Pct\n",
      "0     Afghanistan  2014            6.390000\n",
      "1     Afghanistan  2013            5.900000\n",
      "2     Afghanistan  2012            5.454545\n",
      "3     Afghanistan  2011            5.000000\n",
      "4     Afghanistan  2010            4.000000\n",
      "...           ...   ...                 ...\n",
      "4490     Zimbabwe  1997            0.033080\n",
      "4491     Zimbabwe  1996            0.016790\n",
      "4492     Zimbabwe  1995            0.007684\n",
      "4493     Zimbabwe  1994            0.001739\n",
      "4494     Zimbabwe  1990            0.000000\n",
      "\n",
      "[4495 rows x 3 columns]\n"
     ]
    }
   ],
   "source": [
    "internet_df = internet_df.rename(columns = {\"Country or Area\":\"Country\",\"Year\":\"Year\",\"Value\":\"Internet_Users_Pct\"})\n",
    "print(internet_df)"
   ]
  },
  {
   "cell_type": "code",
   "execution_count": 35,
   "id": "62627d74",
   "metadata": {},
   "outputs": [
    {
     "name": "stdout",
     "output_type": "stream",
     "text": [
      "<class 'pandas.core.frame.DataFrame'>\n",
      "RangeIndex: 4495 entries, 0 to 4494\n",
      "Data columns (total 3 columns):\n",
      " #   Column              Non-Null Count  Dtype  \n",
      "---  ------              --------------  -----  \n",
      " 0   Country             4495 non-null   object \n",
      " 1   Year                4495 non-null   int64  \n",
      " 2   Internet_Users_Pct  4495 non-null   float64\n",
      "dtypes: float64(1), int64(1), object(1)\n",
      "memory usage: 105.5+ KB\n",
      "None\n"
     ]
    }
   ],
   "source": [
    "print(internet_df.info())"
   ]
  },
  {
   "cell_type": "code",
   "execution_count": 36,
   "id": "447e51d5",
   "metadata": {},
   "outputs": [
    {
     "name": "stdout",
     "output_type": "stream",
     "text": [
      "1990\n"
     ]
    }
   ],
   "source": [
    "print(internet_df[internet_df[\"Internet_Users_Pct\"] > 0][\"Year\"].min())"
   ]
  },
  {
   "cell_type": "code",
   "execution_count": 37,
   "id": "5c04c16c",
   "metadata": {},
   "outputs": [
    {
     "name": "stdout",
     "output_type": "stream",
     "text": [
      "      Internet_Users_Pct\n",
      "Year                    \n",
      "1990            0.264891\n",
      "1991            0.352641\n",
      "1992            0.463997\n",
      "1993            0.548085\n",
      "1994            0.757138\n",
      "1995            1.037218\n",
      "1996            1.489119\n",
      "1997            2.499435\n",
      "1998            3.969595\n",
      "1999            5.952221\n",
      "2000            8.931045\n",
      "2001           10.993860\n",
      "2002           14.069361\n",
      "2003           16.671270\n",
      "2004           19.163051\n",
      "2005           21.393010\n",
      "2006           24.039098\n",
      "2007           25.805788\n",
      "2008           28.642722\n",
      "2009           31.378214\n",
      "2010           34.452751\n",
      "2011           37.764590\n",
      "2012           40.553698\n",
      "2013           42.842633\n",
      "2014           45.474975\n"
     ]
    }
   ],
   "source": [
    "internet_use_graph = internet_df[internet_df[\"Internet_Users_Pct\"] > 0].groupby(\"Year\").mean()\n",
    "print(internet_use_graph)"
   ]
  },
  {
   "cell_type": "code",
   "execution_count": 38,
   "id": "93850d10",
   "metadata": {},
   "outputs": [
    {
     "data": {
      "text/plain": [
       "[<matplotlib.lines.Line2D at 0x1c523515a00>]"
      ]
     },
     "execution_count": 38,
     "metadata": {},
     "output_type": "execute_result"
    },
    {
     "data": {
      "image/png": "[encoded data removed]",
      "text/plain": [
       "<Figure size 432x288 with 1 Axes>"
      ]
     },
     "metadata": {
      "needs_background": "light"
     },
     "output_type": "display_data"
    }
   ],
   "source": [
    "plt.plot(internet_use_graph)"
   ]
  },
  {
   "cell_type": "code",
   "execution_count": 39,
   "id": "e038abf7",
   "metadata": {},
   "outputs": [
    {
     "name": "stdout",
     "output_type": "stream",
     "text": [
      "                    Country  Year  Internet_Users_Pct\n",
      "0               Afghanistan  2014                6.39\n",
      "15                  Albania  2014               60.10\n",
      "36                  Algeria  2014               18.09\n",
      "58           American Samoa  1990                0.00\n",
      "59                  Andorra  2014               95.90\n",
      "...                     ...   ...                 ...\n",
      "4389               Viet Nam  2014               48.31\n",
      "4409  Virgin Islands (U.S.)  2014               50.07\n",
      "4431                  Yemen  2014               22.55\n",
      "4451                 Zambia  2014               17.34\n",
      "4473               Zimbabwe  2014               19.89\n",
      "\n",
      "[213 rows x 3 columns]\n",
      "213\n"
     ]
    }
   ],
   "source": [
    "un_internet = internet_df.drop_duplicates(\"Country\")\n",
    "print(un_internet)\n",
    "print(len(pd.unique(internet_df[\"Country\"])))"
   ]
  },
  {
   "cell_type": "code",
   "execution_count": 40,
   "id": "81820ab3",
   "metadata": {},
   "outputs": [
    {
     "name": "stdout",
     "output_type": "stream",
     "text": [
      "0               Afghanistan\n",
      "18                  Albania\n",
      "48                  Algeria\n",
      "78                   Angola\n",
      "108     Antigua and Barbuda\n",
      "               ...         \n",
      "5297                Vanuatu\n",
      "5327                Vietnam\n",
      "5357     West Bank and Gaza\n",
      "5383                 Zambia\n",
      "5413               Zimbabwe\n",
      "Name: Country, Length: 188, dtype: object\n",
      "188\n"
     ]
    }
   ],
   "source": [
    "un_gdp = gdp_df[\"Country\"].drop_duplicates()\n",
    "print(un_gdp)\n",
    "print(len(pd.unique(gdp_df[\"Country\"])))"
   ]
  },
  {
   "cell_type": "code",
   "execution_count": 41,
   "id": "c08c3540",
   "metadata": {},
   "outputs": [
    {
     "name": "stdout",
     "output_type": "stream",
     "text": [
      "                 Country  Year  Internet_Users_Pct\n",
      "0            Afghanistan  2014                6.39\n",
      "1                Albania  2014               60.10\n",
      "2                Algeria  2014               18.09\n",
      "3                 Angola  2014               21.26\n",
      "4    Antigua and Barbuda  2014               64.00\n",
      "..                   ...   ...                 ...\n",
      "162              Uruguay  2014               61.46\n",
      "163           Uzbekistan  2014               43.55\n",
      "164              Vanuatu  2014               18.80\n",
      "165               Zambia  2014               17.34\n",
      "166             Zimbabwe  2014               19.89\n",
      "\n",
      "[167 rows x 3 columns]\n"
     ]
    }
   ],
   "source": [
    "test_join = pd.merge(un_gdp, un_internet, how = \"inner\", on = \"Country\")\n",
    "print(test_join)"
   ]
  },
  {
   "cell_type": "code",
   "execution_count": 42,
   "id": "6f3f15f7",
   "metadata": {},
   "outputs": [
    {
     "name": "stdout",
     "output_type": "stream",
     "text": [
      "replaceing Cape Verde with Cabo Verde\n",
      "replaceing Central African Rep. with Central African Republic\n",
      "replaceing Congo (Democratic Republic of the) with Dem. Rep. Congo\n",
      "replaceing Dominican Rep. with Dominican Republic\n",
      "replaceing Hong Kong, China with Hong Kong SAR, China\n",
      "replaceing Iran (Islamic Rep. of) with Iran\n",
      "replaceing Dem. People's Rep. of Korea with Korea\n",
      "replaceing Kyrgyzstan with Kyrgyz Republic\n",
      "replaceing Lao P.D.R. with Lao PDR\n",
      "replaceing Macao, China with Macao SAR, China\n",
      "replaceing Micronesia (Fed. States of) with Micronesia\n",
      "replaceing T.F.Y.R. Macedonia with North Macedonia\n",
      "replaceing Saint Kitts and Nevis with St. Kitts and Nevis\n",
      "replaceing Saint Lucia with St. Lucia\n",
      "replaceing Bahamas with The Bahamas\n",
      "replaceing Gambia with The Gambia\n",
      "replaceing Viet Nam with Vietnam\n",
      "replaceing Palestine with West Bank and Gaza\n",
      "          Country  Year  Internet_Users_Pct\n",
      "0     Afghanistan  2014            6.390000\n",
      "1     Afghanistan  2013            5.900000\n",
      "2     Afghanistan  2012            5.454545\n",
      "3     Afghanistan  2011            5.000000\n",
      "4     Afghanistan  2010            4.000000\n",
      "...           ...   ...                 ...\n",
      "4490     Zimbabwe  1997            0.033080\n",
      "4491     Zimbabwe  1996            0.016790\n",
      "4492     Zimbabwe  1995            0.007684\n",
      "4493     Zimbabwe  1994            0.001739\n",
      "4494     Zimbabwe  1990            0.000000\n",
      "\n",
      "[4495 rows x 3 columns]\n"
     ]
    }
   ],
   "source": [
    "gdp_replace = ['Cabo Verde','Central African Republic', 'Dem. Rep. Congo', 'Dominican Republic', 'Hong Kong SAR, China', 'Iran', 'Korea', 'Kyrgyz Republic', 'Lao PDR', 'Macao SAR, China', 'Micronesia', 'North Macedonia', 'St. Kitts and Nevis', 'St. Lucia', 'The Bahamas', 'The Gambia', 'Vietnam', 'West Bank and Gaza']\n",
    "internet_replace = ['Cape Verde', 'Central African Rep.', 'Congo (Democratic Republic of the)', 'Dominican Rep.', 'Hong Kong, China','Iran (Islamic Rep. of)', \"Dem. People's Rep. of Korea\", 'Kyrgyzstan', 'Lao P.D.R.', 'Macao, China', 'Micronesia (Fed. States of)', 'T.F.Y.R. Macedonia', 'Saint Kitts and Nevis', 'Saint Lucia', 'Bahamas', 'Gambia', 'Viet Nam', 'Palestine']\n",
    "for x, y in zip(gdp_replace, internet_replace):\n",
    "    internet_df.loc[internet_df[\"Country\"] == y,\"Country\"] = x\n",
    "    print(\"replaceing {} with {}\".format(y,x))\n",
    "#un_internet.loc[un_internet[\"Country\"] == \"Afghanistan\"] = \"AFGHANISTAN\"\n",
    "print(internet_df)"
   ]
  },
  {
   "cell_type": "code",
   "execution_count": 43,
   "id": "5b0e9f3a",
   "metadata": {},
   "outputs": [
    {
     "name": "stdout",
     "output_type": "stream",
     "text": [
      "          Country  Year  GDP_Per_Capita Continent  Internet_Users_Pct\n",
      "0     Afghanistan  2014     2102.385234      Asia            6.390000\n",
      "1     Afghanistan  2013     2116.465454      Asia            5.900000\n",
      "2     Afghanistan  2012     2075.491747      Asia            5.454545\n",
      "3     Afghanistan  2011     1904.559799      Asia            5.000000\n",
      "4     Afghanistan  2010     1957.029338      Asia            4.000000\n",
      "...           ...   ...             ...       ...                 ...\n",
      "3815     Zimbabwe  1997     3580.048793    Africa            0.033080\n",
      "3816     Zimbabwe  1996     3520.430146    Africa            0.016790\n",
      "3817     Zimbabwe  1995     3226.413930    Africa            0.007684\n",
      "3818     Zimbabwe  1994     3263.934978    Africa            0.001739\n",
      "3819     Zimbabwe  1990     3324.348171    Africa            0.000000\n",
      "\n",
      "[3820 rows x 5 columns]\n"
     ]
    }
   ],
   "source": [
    "gdp_and_internet_use = pd.merge(gdp_df,internet_df, how = \"inner\", on = [\"Country\",\"Year\"])\n",
    "print(gdp_and_internet_use)"
   ]
  },
  {
   "cell_type": "code",
   "execution_count": 44,
   "id": "02e14e1b",
   "metadata": {},
   "outputs": [],
   "source": [
    "gdp_and_internet_use_2014 = gdp_and_internet_use[(gdp_and_internet_use[\"Year\"] == 2014) & (gdp_and_internet_use[\"Internet_Users_Pct\"] >= 90)]"
   ]
  },
  {
   "cell_type": "code",
   "execution_count": 45,
   "id": "b99ca9ff",
   "metadata": {},
   "outputs": [
    {
     "name": "stdout",
     "output_type": "stream",
     "text": [
      "                   Country  Year  GDP_Per_Capita      Continent  \\\n",
      "228                Bahrain  2014    48201.085018           Asia   \n",
      "372                Bermuda  2014    77361.104881  North America   \n",
      "913                Denmark  2014    52214.537753         Europe   \n",
      "1133               Finland  2014    45013.100455         Europe   \n",
      "1486               Iceland  2014    49652.149500         Europe   \n",
      "1691                 Japan  2014    39376.884505           Asia   \n",
      "1979            Luxembourg  2014   108760.916030         Europe   \n",
      "2408           Netherlands  2014    52353.666990         Europe   \n",
      "2540                Norway  2014    62589.373548         Europe   \n",
      "2786                 Qatar  2014    95578.416973           Asia   \n",
      "3260                Sweden  2014    49416.289877         Europe   \n",
      "3607  United Arab Emirates  2014    62378.657439           Asia   \n",
      "3628        United Kingdom  2014    44209.510472         Europe   \n",
      "\n",
      "      Internet_Users_Pct  \n",
      "228             90.99998  \n",
      "372             96.80000  \n",
      "913             95.99000  \n",
      "1133            92.38000  \n",
      "1486            98.16000  \n",
      "1691            90.58000  \n",
      "1979            94.67000  \n",
      "2408            93.17000  \n",
      "2540            96.30000  \n",
      "2786            91.49000  \n",
      "3260            92.52000  \n",
      "3607            90.40000  \n",
      "3628            91.61000  \n"
     ]
    }
   ],
   "source": [
    "print(gdp_and_internet_use_2014)"
   ]
  },
  {
   "cell_type": "code",
   "execution_count": 46,
   "id": "75b9b344",
   "metadata": {},
   "outputs": [
    {
     "data": {
      "text/html": [
       "<div>\n",
       "<style scoped>\n",
       "    .dataframe tbody tr th:only-of-type {\n",
       "        vertical-align: middle;\n",
       "    }\n",
       "\n",
       "    .dataframe tbody tr th {\n",
       "        vertical-align: top;\n",
       "    }\n",
       "\n",
       "    .dataframe thead th {\n",
       "        text-align: right;\n",
       "    }\n",
       "</style>\n",
       "<table border=\"1\" class=\"dataframe\">\n",
       "  <thead>\n",
       "    <tr style=\"text-align: right;\">\n",
       "      <th></th>\n",
       "      <th>Country</th>\n",
       "      <th>Year</th>\n",
       "      <th>GDP_Per_Capita</th>\n",
       "      <th>Continent</th>\n",
       "      <th>Internet_Users_Pct</th>\n",
       "    </tr>\n",
       "  </thead>\n",
       "  <tbody>\n",
       "    <tr>\n",
       "      <th>1979</th>\n",
       "      <td>Luxembourg</td>\n",
       "      <td>2014</td>\n",
       "      <td>108760.916030</td>\n",
       "      <td>Europe</td>\n",
       "      <td>94.67</td>\n",
       "    </tr>\n",
       "    <tr>\n",
       "      <th>2786</th>\n",
       "      <td>Qatar</td>\n",
       "      <td>2014</td>\n",
       "      <td>95578.416973</td>\n",
       "      <td>Asia</td>\n",
       "      <td>91.49</td>\n",
       "    </tr>\n",
       "    <tr>\n",
       "      <th>372</th>\n",
       "      <td>Bermuda</td>\n",
       "      <td>2014</td>\n",
       "      <td>77361.104881</td>\n",
       "      <td>North America</td>\n",
       "      <td>96.80</td>\n",
       "    </tr>\n",
       "  </tbody>\n",
       "</table>\n",
       "</div>"
      ],
      "text/plain": [
       "         Country  Year  GDP_Per_Capita      Continent  Internet_Users_Pct\n",
       "1979  Luxembourg  2014   108760.916030         Europe               94.67\n",
       "2786       Qatar  2014    95578.416973           Asia               91.49\n",
       "372      Bermuda  2014    77361.104881  North America               96.80"
      ]
     },
     "execution_count": 46,
     "metadata": {},
     "output_type": "execute_result"
    }
   ],
   "source": [
    "gdp_and_internet_use_2014.sort_values(\"GDP_Per_Capita\", ascending = False)[:3]"
   ]
  },
  {
   "cell_type": "code",
   "execution_count": 47,
   "id": "357859f5",
   "metadata": {},
   "outputs": [],
   "source": [
    "gdp_top_countries = gdp_and_internet_use[(gdp_and_internet_use[\"Country\"] == \"Luxembourg\") | (gdp_and_internet_use[\"Country\"] == \"Qatar\") | (gdp_and_internet_use[\"Country\"] == \"Bermuda\")]"
   ]
  },
  {
   "cell_type": "code",
   "execution_count": 48,
   "id": "d6a6a6ad",
   "metadata": {},
   "outputs": [
    {
     "data": {
      "text/plain": [
       "<seaborn.axisgrid.FacetGrid at 0x1c5234ff610>"
      ]
     },
     "execution_count": 48,
     "metadata": {},
     "output_type": "execute_result"
    },
    {
     "data": {
      "image/png": "[encoded data removed]",
      "text/plain": [
       "<Figure size 216x648 with 3 Axes>"
      ]
     },
     "metadata": {
      "needs_background": "light"
     },
     "output_type": "display_data"
    }
   ],
   "source": [
    "top_gdp_countries = sns.FacetGrid(gdp_top_countries, row = \"Country\")\n",
    "top_gdp_countries.map(sns.scatterplot,\"Year\",\"Internet_Users_Pct\")"
   ]
  },
  {
   "cell_type": "code",
   "execution_count": 49,
   "id": "8ad62835",
   "metadata": {},
   "outputs": [
    {
     "data": {
      "text/plain": [
       "0.18806598556644713"
      ]
     },
     "execution_count": 49,
     "metadata": {},
     "output_type": "execute_result"
    }
   ],
   "source": [
    "gdp_and_internet_use_2014[\"GDP_Per_Capita\"].corr(gdp_and_internet_use_2014[\"Internet_Users_Pct\"])"
   ]
  },
  {
   "cell_type": "code",
   "execution_count": 50,
   "id": "ad6be487",
   "metadata": {},
   "outputs": [
    {
     "name": "stderr",
     "output_type": "stream",
     "text": [
      "<ipython-input-50-99e3b429c361>:1: SettingWithCopyWarning: \n",
      "A value is trying to be set on a copy of a slice from a DataFrame.\n",
      "Try using .loc[row_indexer,col_indexer] = value instead\n",
      "\n",
      "See the caveats in the documentation: https://pandas.pydata.org/pandas-docs/stable/user_guide/indexing.html#returning-a-view-versus-a-copy\n",
      "  gdp_and_internet_use_2014[\"GDP_Log\"] = np.log(gdp_and_internet_use_2014[\"GDP_Per_Capita\"])\n"
     ]
    }
   ],
   "source": [
    "gdp_and_internet_use_2014[\"GDP_Log\"] = np.log(gdp_and_internet_use_2014[\"GDP_Per_Capita\"])"
   ]
  },
  {
   "cell_type": "code",
   "execution_count": 51,
   "id": "b786d29e",
   "metadata": {},
   "outputs": [
    {
     "data": {
      "text/plain": [
       "0.23444654655508249"
      ]
     },
     "execution_count": 51,
     "metadata": {},
     "output_type": "execute_result"
    }
   ],
   "source": [
    "gdp_and_internet_use_2014[\"GDP_Log\"].corr(gdp_and_internet_use_2014[\"Internet_Users_Pct\"])"
   ]
  },
  {
   "cell_type": "code",
   "execution_count": 52,
   "id": "545b2cb5",
   "metadata": {},
   "outputs": [],
   "source": [
    "us_gdp = gdp_and_internet_use[gdp_and_internet_use[\"Country\"] == \"United States\"]"
   ]
  },
  {
   "cell_type": "code",
   "execution_count": 53,
   "id": "19b05794",
   "metadata": {},
   "outputs": [
    {
     "data": {
      "text/plain": [
       "0.9916600677832935"
      ]
     },
     "execution_count": 53,
     "metadata": {},
     "output_type": "execute_result"
    }
   ],
   "source": [
    "us_gdp[\"GDP_Per_Capita\"].corr(us_gdp[\"Internet_Users_Pct\"])"
   ]
  },
  {
   "cell_type": "code",
   "execution_count": 54,
   "id": "574ea5c8",
   "metadata": {},
   "outputs": [],
   "source": [
    "ag_df = pd.read_csv(\"../data/UNdata_export_Ag_Land.csv\")"
   ]
  },
  {
   "cell_type": "code",
   "execution_count": 55,
   "id": "d1bc7e58",
   "metadata": {},
   "outputs": [],
   "source": [
    "ag_df = ag_df.drop([\"Element\",\"Value Footnotes\"],1)"
   ]
  },
  {
   "cell_type": "code",
   "execution_count": 56,
   "id": "b8b97e05",
   "metadata": {},
   "outputs": [
    {
     "data": {
      "text/html": [
       "<div>\n",
       "<style scoped>\n",
       "    .dataframe tbody tr th:only-of-type {\n",
       "        vertical-align: middle;\n",
       "    }\n",
       "\n",
       "    .dataframe tbody tr th {\n",
       "        vertical-align: top;\n",
       "    }\n",
       "\n",
       "    .dataframe thead th {\n",
       "        text-align: right;\n",
       "    }\n",
       "</style>\n",
       "<table border=\"1\" class=\"dataframe\">\n",
       "  <thead>\n",
       "    <tr style=\"text-align: right;\">\n",
       "      <th></th>\n",
       "      <th>Country or Area</th>\n",
       "      <th>Year</th>\n",
       "      <th>Unit</th>\n",
       "      <th>Value</th>\n",
       "    </tr>\n",
       "  </thead>\n",
       "  <tbody>\n",
       "    <tr>\n",
       "      <th>0</th>\n",
       "      <td>Afghanistan</td>\n",
       "      <td>2018.0</td>\n",
       "      <td>1000 ha</td>\n",
       "      <td>37919.0</td>\n",
       "    </tr>\n",
       "    <tr>\n",
       "      <th>1</th>\n",
       "      <td>Afghanistan</td>\n",
       "      <td>2017.0</td>\n",
       "      <td>1000 ha</td>\n",
       "      <td>37910.0</td>\n",
       "    </tr>\n",
       "    <tr>\n",
       "      <th>2</th>\n",
       "      <td>Afghanistan</td>\n",
       "      <td>2016.0</td>\n",
       "      <td>1000 ha</td>\n",
       "      <td>37910.0</td>\n",
       "    </tr>\n",
       "    <tr>\n",
       "      <th>3</th>\n",
       "      <td>Afghanistan</td>\n",
       "      <td>2015.0</td>\n",
       "      <td>1000 ha</td>\n",
       "      <td>37910.0</td>\n",
       "    </tr>\n",
       "    <tr>\n",
       "      <th>4</th>\n",
       "      <td>Afghanistan</td>\n",
       "      <td>2014.0</td>\n",
       "      <td>1000 ha</td>\n",
       "      <td>37910.0</td>\n",
       "    </tr>\n",
       "  </tbody>\n",
       "</table>\n",
       "</div>"
      ],
      "text/plain": [
       "  Country or Area    Year     Unit    Value\n",
       "0     Afghanistan  2018.0  1000 ha  37919.0\n",
       "1     Afghanistan  2017.0  1000 ha  37910.0\n",
       "2     Afghanistan  2016.0  1000 ha  37910.0\n",
       "3     Afghanistan  2015.0  1000 ha  37910.0\n",
       "4     Afghanistan  2014.0  1000 ha  37910.0"
      ]
     },
     "execution_count": 56,
     "metadata": {},
     "output_type": "execute_result"
    }
   ],
   "source": [
    "ag_df.head()"
   ]
  },
  {
   "cell_type": "code",
   "execution_count": 57,
   "id": "97b0de89",
   "metadata": {},
   "outputs": [],
   "source": [
    "ag_df = ag_df.rename(columns = {\"Country or Area\":\"Country\",\"Year\":\"Year\",\"Value\":\"Ag Land\"})\n",
    "ag_df = ag_df.dropna()\n",
    "ag_df = ag_df.astype({\"Country\": str,\"Year\": int, \"Ag Land\": int})"
   ]
  },
  {
   "cell_type": "code",
   "execution_count": 58,
   "id": "bbe51207",
   "metadata": {},
   "outputs": [
    {
     "name": "stdout",
     "output_type": "stream",
     "text": [
      "           Country  Year     Unit  Ag Land\n",
      "0      Afghanistan  2018  1000 ha    37919\n",
      "1      Afghanistan  2017  1000 ha    37910\n",
      "2      Afghanistan  2016  1000 ha    37910\n",
      "3      Afghanistan  2015  1000 ha    37910\n",
      "4      Afghanistan  2014  1000 ha    37910\n",
      "...            ...   ...      ...      ...\n",
      "14364     Zimbabwe  1965  1000 ha    11305\n",
      "14365     Zimbabwe  1964  1000 ha    11240\n",
      "14366     Zimbabwe  1963  1000 ha    11155\n",
      "14367     Zimbabwe  1962  1000 ha    11070\n",
      "14368     Zimbabwe  1961  1000 ha    10985\n",
      "\n",
      "[14369 rows x 4 columns]\n"
     ]
    }
   ],
   "source": [
    "print(ag_df)"
   ]
  },
  {
   "cell_type": "code",
   "execution_count": 59,
   "id": "91b3ac26",
   "metadata": {},
   "outputs": [],
   "source": [
    "gdp_and_internet_use_and_ag = pd.merge(gdp_and_internet_use,ag_df, how = \"inner\", on = [\"Country\",\"Year\"])"
   ]
  },
  {
   "cell_type": "code",
   "execution_count": 60,
   "id": "daca1f60",
   "metadata": {},
   "outputs": [
    {
     "data": {
      "text/html": [
       "<div>\n",
       "<style scoped>\n",
       "    .dataframe tbody tr th:only-of-type {\n",
       "        vertical-align: middle;\n",
       "    }\n",
       "\n",
       "    .dataframe tbody tr th {\n",
       "        vertical-align: top;\n",
       "    }\n",
       "\n",
       "    .dataframe thead th {\n",
       "        text-align: right;\n",
       "    }\n",
       "</style>\n",
       "<table border=\"1\" class=\"dataframe\">\n",
       "  <thead>\n",
       "    <tr style=\"text-align: right;\">\n",
       "      <th></th>\n",
       "      <th>Country</th>\n",
       "      <th>Year</th>\n",
       "      <th>GDP_Per_Capita</th>\n",
       "      <th>Continent</th>\n",
       "      <th>Internet_Users_Pct</th>\n",
       "      <th>Unit</th>\n",
       "      <th>Ag Land</th>\n",
       "    </tr>\n",
       "  </thead>\n",
       "  <tbody>\n",
       "    <tr>\n",
       "      <th>0</th>\n",
       "      <td>Afghanistan</td>\n",
       "      <td>2014</td>\n",
       "      <td>2102.385234</td>\n",
       "      <td>Asia</td>\n",
       "      <td>6.390000</td>\n",
       "      <td>1000 ha</td>\n",
       "      <td>37910</td>\n",
       "    </tr>\n",
       "    <tr>\n",
       "      <th>1</th>\n",
       "      <td>Afghanistan</td>\n",
       "      <td>2013</td>\n",
       "      <td>2116.465454</td>\n",
       "      <td>Asia</td>\n",
       "      <td>5.900000</td>\n",
       "      <td>1000 ha</td>\n",
       "      <td>37910</td>\n",
       "    </tr>\n",
       "    <tr>\n",
       "      <th>2</th>\n",
       "      <td>Afghanistan</td>\n",
       "      <td>2012</td>\n",
       "      <td>2075.491747</td>\n",
       "      <td>Asia</td>\n",
       "      <td>5.454545</td>\n",
       "      <td>1000 ha</td>\n",
       "      <td>37910</td>\n",
       "    </tr>\n",
       "    <tr>\n",
       "      <th>3</th>\n",
       "      <td>Afghanistan</td>\n",
       "      <td>2011</td>\n",
       "      <td>1904.559799</td>\n",
       "      <td>Asia</td>\n",
       "      <td>5.000000</td>\n",
       "      <td>1000 ha</td>\n",
       "      <td>37910</td>\n",
       "    </tr>\n",
       "    <tr>\n",
       "      <th>4</th>\n",
       "      <td>Afghanistan</td>\n",
       "      <td>2010</td>\n",
       "      <td>1957.029338</td>\n",
       "      <td>Asia</td>\n",
       "      <td>4.000000</td>\n",
       "      <td>1000 ha</td>\n",
       "      <td>37911</td>\n",
       "    </tr>\n",
       "  </tbody>\n",
       "</table>\n",
       "</div>"
      ],
      "text/plain": [
       "       Country  Year  GDP_Per_Capita Continent  Internet_Users_Pct     Unit  \\\n",
       "0  Afghanistan  2014     2102.385234      Asia            6.390000  1000 ha   \n",
       "1  Afghanistan  2013     2116.465454      Asia            5.900000  1000 ha   \n",
       "2  Afghanistan  2012     2075.491747      Asia            5.454545  1000 ha   \n",
       "3  Afghanistan  2011     1904.559799      Asia            5.000000  1000 ha   \n",
       "4  Afghanistan  2010     1957.029338      Asia            4.000000  1000 ha   \n",
       "\n",
       "   Ag Land  \n",
       "0    37910  \n",
       "1    37910  \n",
       "2    37910  \n",
       "3    37910  \n",
       "4    37911  "
      ]
     },
     "execution_count": 60,
     "metadata": {},
     "output_type": "execute_result"
    }
   ],
   "source": [
    "gdp_and_internet_use_and_ag.head()"
   ]
  },
  {
   "cell_type": "code",
   "execution_count": 61,
   "id": "1cad9769",
   "metadata": {},
   "outputs": [],
   "source": [
    "ag_1961 = ag_df[ag_df[\"Year\"] == 1961]\n",
    "ag_2018 = ag_df[ag_df[\"Year\"] == 2018]"
   ]
  },
  {
   "cell_type": "code",
   "execution_count": 62,
   "id": "f18102dc",
   "metadata": {},
   "outputs": [],
   "source": [
    "ag_1961 = ag_1961.rename(columns = {\"Ag Land\":\"1961_Ag\"})\n",
    "ag_2018 = ag_2018.rename(columns = {\"Ag Land\":\"2018_Ag\"})\n",
    "ag_61_18 = pd.merge(ag_1961,ag_2018, how = \"inner\", on = [\"Country\"])"
   ]
  },
  {
   "cell_type": "code",
   "execution_count": 63,
   "id": "255ed328",
   "metadata": {},
   "outputs": [
    {
     "name": "stdout",
     "output_type": "stream",
     "text": [
      "            Country  Year_x   Unit_x  1961_Ag  Year_y   Unit_y  2018_Ag\n",
      "0       Afghanistan    1961  1000 ha    37700    2018  1000 ha    37919\n",
      "1            Africa    1961  1000 ha  1041602    2018  1000 ha  1121810\n",
      "2           Albania    1961  1000 ha     1232    2018  1000 ha     1174\n",
      "3           Algeria    1961  1000 ha    45471    2018  1000 ha    41358\n",
      "4    American Samoa    1961  1000 ha        3    2018  1000 ha        4\n",
      "..              ...     ...      ...      ...     ...      ...      ...\n",
      "223  Western Sahara    1961  1000 ha     5000    2018  1000 ha     5004\n",
      "224           World    1961  1000 ha  4469406    2018  1000 ha  4801370\n",
      "225           Yemen    1961  1000 ha    23337    2018  1000 ha    23387\n",
      "226          Zambia    1961  1000 ha    19307    2018  1000 ha    23836\n",
      "227        Zimbabwe    1961  1000 ha    10985    2018  1000 ha    16200\n",
      "\n",
      "[228 rows x 7 columns]\n"
     ]
    }
   ],
   "source": [
    "print(ag_61_18)"
   ]
  },
  {
   "cell_type": "code",
   "execution_count": 64,
   "id": "24e824cf",
   "metadata": {},
   "outputs": [
    {
     "name": "stdout",
     "output_type": "stream",
     "text": [
      "            Country  Year_x   Unit_x  1961_Ag  Year_y   Unit_y  2018_Ag  \\\n",
      "0       Afghanistan    1961  1000 ha    37700    2018  1000 ha    37919   \n",
      "1            Africa    1961  1000 ha  1041602    2018  1000 ha  1121810   \n",
      "2           Albania    1961  1000 ha     1232    2018  1000 ha     1174   \n",
      "3           Algeria    1961  1000 ha    45471    2018  1000 ha    41358   \n",
      "4    American Samoa    1961  1000 ha        3    2018  1000 ha        4   \n",
      "..              ...     ...      ...      ...     ...      ...      ...   \n",
      "223  Western Sahara    1961  1000 ha     5000    2018  1000 ha     5004   \n",
      "224           World    1961  1000 ha  4469406    2018  1000 ha  4801370   \n",
      "225           Yemen    1961  1000 ha    23337    2018  1000 ha    23387   \n",
      "226          Zambia    1961  1000 ha    19307    2018  1000 ha    23836   \n",
      "227        Zimbabwe    1961  1000 ha    10985    2018  1000 ha    16200   \n",
      "\n",
      "     Ag Diff  \n",
      "0        219  \n",
      "1      80208  \n",
      "2        -58  \n",
      "3      -4113  \n",
      "4          1  \n",
      "..       ...  \n",
      "223        4  \n",
      "224   331964  \n",
      "225       50  \n",
      "226     4529  \n",
      "227     5215  \n",
      "\n",
      "[228 rows x 8 columns]\n"
     ]
    }
   ],
   "source": [
    "ag_61_18[\"Ag Diff\"] = ag_61_18[\"2018_Ag\"] - ag_61_18[\"1961_Ag\"]\n",
    "print(ag_61_18)"
   ]
  },
  {
   "cell_type": "code",
   "execution_count": 65,
   "id": "a7248a37",
   "metadata": {},
   "outputs": [
    {
     "name": "stdout",
     "output_type": "stream",
     "text": [
      "                                     Country  Ag Diff\n",
      "11                                      Asia   592848\n",
      "109         Land Locked Developing Countries   410018\n",
      "224                                    World   331964\n",
      "44                           China, mainland   185383\n",
      "42                                     China   185280\n",
      "61                              Eastern Asia   155129\n",
      "188                            South America   129004\n",
      "117        Low Income Food Deficit Countries   112159\n",
      "5                                   Americas    99338\n",
      "221                             Western Asia    97540\n",
      "179                             Saudi Arabia    87459\n",
      "1                                     Africa    80208\n",
      "25                                    Brazil    79919\n",
      "220                           Western Africa    56884\n",
      "189                       South-eastern Asia    55728\n",
      "60                            Eastern Africa    51965\n",
      "140  Net Food Importing Developing Countries    51805\n",
      "111                Least Developed Countries    51314\n",
      "96                                 Indonesia    23700\n",
      "146                                  Nigeria    15947\n"
     ]
    }
   ],
   "source": [
    "#ag_df = ag_df.drop([\"Element\",\"Value Footnotes\"],1)\n",
    "ag_61_18 = ag_61_18.drop([\"Year_x\",\"Unit_x\",\"1961_Ag\",\"Year_y\",\"Unit_y\",\"2018_Ag\"],1)\n",
    "ag_61_18 = ag_61_18.sort_values(\"Ag Diff\", ascending = False)\n",
    "print(ag_61_18[0:20])"
   ]
  },
  {
   "cell_type": "code",
   "execution_count": 66,
   "id": "dc419a82",
   "metadata": {},
   "outputs": [
    {
     "name": "stdout",
     "output_type": "stream",
     "text": [
      "          Country  Year  GDP_Per_Capita Continent  Internet_Users_Pct  Ag Diff\n",
      "0     Afghanistan  2014     2102.385234      Asia            6.390000      219\n",
      "1     Afghanistan  2013     2116.465454      Asia            5.900000      219\n",
      "2     Afghanistan  2012     2075.491747      Asia            5.454545      219\n",
      "3     Afghanistan  2011     1904.559799      Asia            5.000000      219\n",
      "4     Afghanistan  2010     1957.029338      Asia            4.000000      219\n",
      "...           ...   ...             ...       ...                 ...      ...\n",
      "2891     Zimbabwe  1997     3580.048793    Africa            0.033080     5215\n",
      "2892     Zimbabwe  1996     3520.430146    Africa            0.016790     5215\n",
      "2893     Zimbabwe  1995     3226.413930    Africa            0.007684     5215\n",
      "2894     Zimbabwe  1994     3263.934978    Africa            0.001739     5215\n",
      "2895     Zimbabwe  1990     3324.348171    Africa            0.000000     5215\n",
      "\n",
      "[2896 rows x 6 columns]\n"
     ]
    }
   ],
   "source": [
    "gdp_internet_and_diff = pd.merge(gdp_and_internet_use,ag_61_18, how = \"inner\", on = [\"Country\"])\n",
    "print(gdp_internet_and_diff)"
   ]
  },
  {
   "cell_type": "code",
   "execution_count": 67,
   "id": "b1e01236",
   "metadata": {},
   "outputs": [],
   "source": [
    "gdp_top_countries_with_ag = gdp_and_internet_use_and_ag[(gdp_and_internet_use_and_ag[\"Country\"] == \"Brazil\") | (gdp_and_internet_use_and_ag[\"Country\"] == \"Indonesia\") | (gdp_and_internet_use_and_ag[\"Country\"] == \"Nigeria\")]"
   ]
  },
  {
   "cell_type": "code",
   "execution_count": 68,
   "id": "bcd6e31b",
   "metadata": {},
   "outputs": [
    {
     "data": {
      "text/plain": [
       "<seaborn.axisgrid.FacetGrid at 0x1c5235ee3a0>"
      ]
     },
     "execution_count": 68,
     "metadata": {},
     "output_type": "execute_result"
    },
    {
     "data": {
      "image/png": "[encoded data removed]",
      "text/plain": [
       "<Figure size 216x648 with 3 Axes>"
      ]
     },
     "metadata": {
      "needs_background": "light"
     },
     "output_type": "display_data"
    }
   ],
   "source": [
    "top_gdp_countries_with_ag = sns.FacetGrid(gdp_top_countries_with_ag, row = \"Country\")\n",
    "top_gdp_countries_with_ag.map(sns.scatterplot,\"Year\",\"Internet_Users_Pct\",\"Ag Land\")"
   ]
  },
  {
   "cell_type": "code",
   "execution_count": 70,
   "id": "823bab89",
   "metadata": {},
   "outputs": [
    {
     "data": {
      "text/plain": [
       "<seaborn.axisgrid.FacetGrid at 0x1c523ef8130>"
      ]
     },
     "execution_count": 70,
     "metadata": {},
     "output_type": "execute_result"
    },
    {
     "data": {
      "image/png": "[encoded data removed]",
      "text/plain": [
       "<Figure size 216x216 with 1 Axes>"
      ]
     },
     "metadata": {
      "needs_background": "light"
     },
     "output_type": "display_data"
    }
   ],
   "source": [
    "ag_diff_world = ag_df[(ag_df[\"Country\"] == \"World\")]\n",
    "world_with_ag = sns.FacetGrid(ag_diff_world, row = \"Country\")\n",
    "world_with_ag.map(sns.scatterplot,\"Year\",\"Ag Land\")"
   ]
  },
  {
   "cell_type": "code",
   "execution_count": null,
   "id": "3b9a7ad2",
   "metadata": {},
   "outputs": [],
   "source": []
  }
 ],
 "metadata": {
  "kernelspec": {
   "display_name": "Python 3",
   "language": "python",
   "name": "python3"
  },
  "language_info": {
   "codemirror_mode": {
    "name": "ipython",
    "version": 3
   },
   "file_extension": ".py",
   "mimetype": "text/x-python",
   "name": "python",
   "nbconvert_exporter": "python",
   "pygments_lexer": "ipython3",
   "version": "3.8.8"
  }
 },
 "nbformat": 4,
 "nbformat_minor": 5
}
