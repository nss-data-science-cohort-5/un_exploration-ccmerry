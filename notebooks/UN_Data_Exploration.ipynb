{
 "cells": [
  {
   "cell_type": "code",
   "execution_count": 1,
   "id": "92bcfa99",
   "metadata": {},
   "outputs": [],
   "source": [
    "import pandas as pd\n",
    "import numpy as np\n",
    "import matplotlib.pyplot as plt\n",
    "import seaborn as sns\n",
    "\n",
    "%matplotlib inline"
   ]
  },
  {
   "cell_type": "code",
   "execution_count": 2,
   "id": "17e6588a",
   "metadata": {},
   "outputs": [],
   "source": [
    "gdp_df = pd.read_csv(\"../data/gdp_per_capita.csv\",keep_default_na = False, skipfooter = 3,engine='python')"
   ]
  },
  {
   "cell_type": "code",
   "execution_count": 3,
   "id": "e7c8d3ed",
   "metadata": {},
   "outputs": [],
   "source": [
    "gdp_df = gdp_df.drop(columns = ['Value Footnotes'])"
   ]
  },
  {
   "cell_type": "code",
   "execution_count": 4,
   "id": "893c233d",
   "metadata": {},
   "outputs": [],
   "source": [
    "gdp_df = gdp_df.rename(columns={'Country or Area': 'Country', 'Value': 'GDP_Per_Capita'})"
   ]
  },
  {
   "cell_type": "code",
   "execution_count": 5,
   "id": "c7743f45",
   "metadata": {},
   "outputs": [
    {
     "name": "stdout",
     "output_type": "stream",
     "text": [
      "          Country  Year  GDP_Per_Capita\n",
      "0     Afghanistan  2019     2065.036398\n",
      "1     Afghanistan  2018     2033.779002\n",
      "2     Afghanistan  2017     2058.383832\n",
      "3     Afghanistan  2016     2057.062164\n",
      "4     Afghanistan  2015     2068.265904\n",
      "...           ...   ...             ...\n",
      "6863     Zimbabwe  1994     3263.934978\n",
      "6864     Zimbabwe  1993     3033.504852\n",
      "6865     Zimbabwe  1992     3054.889178\n",
      "6866     Zimbabwe  1991     3426.598094\n",
      "6867     Zimbabwe  1990     3324.348171\n",
      "\n",
      "[6868 rows x 3 columns]\n"
     ]
    }
   ],
   "source": [
    "print(gdp_df)"
   ]
  },
  {
   "cell_type": "code",
   "execution_count": 6,
   "id": "92ad51a0",
   "metadata": {},
   "outputs": [
    {
     "name": "stdout",
     "output_type": "stream",
     "text": [
      "<class 'pandas.core.frame.DataFrame'>\n",
      "RangeIndex: 6868 entries, 0 to 6867\n",
      "Data columns (total 3 columns):\n",
      " #   Column          Non-Null Count  Dtype  \n",
      "---  ------          --------------  -----  \n",
      " 0   Country         6868 non-null   object \n",
      " 1   Year            6868 non-null   int64  \n",
      " 2   GDP_Per_Capita  6868 non-null   float64\n",
      "dtypes: float64(1), int64(1), object(1)\n",
      "memory usage: 161.1+ KB\n",
      "None\n"
     ]
    }
   ],
   "source": [
    "print(gdp_df.info())"
   ]
  },
  {
   "cell_type": "code",
   "execution_count": 7,
   "id": "0d4ea9c8",
   "metadata": {},
   "outputs": [
    {
     "name": "stdout",
     "output_type": "stream",
     "text": [
      "2013    238\n",
      "2014    238\n",
      "2016    238\n",
      "2015    238\n",
      "2017    238\n",
      "2012    237\n",
      "2018    237\n",
      "2011    237\n",
      "2009    236\n",
      "2010    236\n",
      "2007    235\n",
      "2008    235\n",
      "2006    235\n",
      "2004    234\n",
      "2005    234\n",
      "2002    233\n",
      "2003    233\n",
      "2001    232\n",
      "2019    231\n",
      "2000    231\n",
      "1999    224\n",
      "1998    223\n",
      "1997    223\n",
      "1996    221\n",
      "1995    221\n",
      "1994    214\n",
      "1993    212\n",
      "1992    209\n",
      "1991    208\n",
      "1990    207\n",
      "Name: Year, dtype: int64\n"
     ]
    }
   ],
   "source": [
    "print(gdp_df[\"Year\"].value_counts())"
   ]
  },
  {
   "cell_type": "code",
   "execution_count": 8,
   "id": "46dc0b24",
   "metadata": {},
   "outputs": [
    {
     "name": "stdout",
     "output_type": "stream",
     "text": [
      "Kazakhstan                                       30\n",
      "Europe & Central Asia (excluding high income)    30\n",
      "Luxembourg                                       30\n",
      "Austria                                          30\n",
      "Korea                                            30\n",
      "                                                 ..\n",
      "Nauru                                            16\n",
      "Cayman Islands                                   13\n",
      "Sint Maarten (Dutch part)                        10\n",
      "Turks and Caicos Islands                          9\n",
      "Djibouti                                          7\n",
      "Name: Country, Length: 238, dtype: int64\n"
     ]
    }
   ],
   "source": [
    "print(gdp_df[\"Country\"].value_counts())"
   ]
  },
  {
   "cell_type": "code",
   "execution_count": 9,
   "id": "f229fb60",
   "metadata": {},
   "outputs": [],
   "source": [
    "gdp_2014 = gdp_df[gdp_df[\"Year\"] == 2014]"
   ]
  },
  {
   "cell_type": "code",
   "execution_count": 10,
   "id": "613974f8",
   "metadata": {},
   "outputs": [
    {
     "name": "stdout",
     "output_type": "stream",
     "text": [
      "                  Country  Year  GDP_Per_Capita\n",
      "5             Afghanistan  2014     2102.385234\n",
      "23                Albania  2014    11623.866679\n",
      "53                Algeria  2014    11512.705405\n",
      "83                 Angola  2014     8239.828837\n",
      "113   Antigua and Barbuda  2014    18104.241470\n",
      "...                   ...   ...             ...\n",
      "6727              Vietnam  2014     6098.489609\n",
      "6757   West Bank and Gaza  2014     5967.073437\n",
      "6783                World  2014    15189.648507\n",
      "6813               Zambia  2014     3450.046561\n",
      "6843             Zimbabwe  2014     2955.240287\n",
      "\n",
      "[238 rows x 3 columns]\n"
     ]
    }
   ],
   "source": [
    "print(gdp_2014)"
   ]
  },
  {
   "cell_type": "code",
   "execution_count": 11,
   "id": "1d8efe17",
   "metadata": {},
   "outputs": [
    {
     "data": {
      "text/html": [
       "<div>\n",
       "<style scoped>\n",
       "    .dataframe tbody tr th:only-of-type {\n",
       "        vertical-align: middle;\n",
       "    }\n",
       "\n",
       "    .dataframe tbody tr th {\n",
       "        vertical-align: top;\n",
       "    }\n",
       "\n",
       "    .dataframe thead th {\n",
       "        text-align: right;\n",
       "    }\n",
       "</style>\n",
       "<table border=\"1\" class=\"dataframe\">\n",
       "  <thead>\n",
       "    <tr style=\"text-align: right;\">\n",
       "      <th></th>\n",
       "      <th>Year</th>\n",
       "      <th>GDP_Per_Capita</th>\n",
       "    </tr>\n",
       "  </thead>\n",
       "  <tbody>\n",
       "    <tr>\n",
       "      <th>count</th>\n",
       "      <td>238.0</td>\n",
       "      <td>238.000000</td>\n",
       "    </tr>\n",
       "    <tr>\n",
       "      <th>mean</th>\n",
       "      <td>2014.0</td>\n",
       "      <td>19766.710348</td>\n",
       "    </tr>\n",
       "    <tr>\n",
       "      <th>std</th>\n",
       "      <td>0.0</td>\n",
       "      <td>20983.869623</td>\n",
       "    </tr>\n",
       "    <tr>\n",
       "      <th>min</th>\n",
       "      <td>2014.0</td>\n",
       "      <td>822.610458</td>\n",
       "    </tr>\n",
       "    <tr>\n",
       "      <th>25%</th>\n",
       "      <td>2014.0</td>\n",
       "      <td>4753.110934</td>\n",
       "    </tr>\n",
       "    <tr>\n",
       "      <th>50%</th>\n",
       "      <td>2014.0</td>\n",
       "      <td>12209.385755</td>\n",
       "    </tr>\n",
       "    <tr>\n",
       "      <th>75%</th>\n",
       "      <td>2014.0</td>\n",
       "      <td>26803.610474</td>\n",
       "    </tr>\n",
       "    <tr>\n",
       "      <th>max</th>\n",
       "      <td>2014.0</td>\n",
       "      <td>156514.133850</td>\n",
       "    </tr>\n",
       "  </tbody>\n",
       "</table>\n",
       "</div>"
      ],
      "text/plain": [
       "         Year  GDP_Per_Capita\n",
       "count   238.0      238.000000\n",
       "mean   2014.0    19766.710348\n",
       "std       0.0    20983.869623\n",
       "min    2014.0      822.610458\n",
       "25%    2014.0     4753.110934\n",
       "50%    2014.0    12209.385755\n",
       "75%    2014.0    26803.610474\n",
       "max    2014.0   156514.133850"
      ]
     },
     "execution_count": 11,
     "metadata": {},
     "output_type": "execute_result"
    }
   ],
   "source": [
    "gdp_2014.describe()"
   ]
  },
  {
   "cell_type": "code",
   "execution_count": 12,
   "id": "4c2be800",
   "metadata": {},
   "outputs": [
    {
     "data": {
      "text/plain": [
       "(array([146.,  41.,  25.,  18.,   4.,   1.,   2.,   0.,   0.,   1.]),\n",
       " array([   822.61045782,  16391.76279701,  31960.91513621,  47530.06747541,\n",
       "         63099.2198146 ,  78668.3721538 ,  94237.524493  , 109806.67683219,\n",
       "        125375.82917139, 140944.98151059, 156514.13384978]),\n",
       " <BarContainer object of 10 artists>)"
      ]
     },
     "execution_count": 12,
     "metadata": {},
     "output_type": "execute_result"
    },
    {
     "data": {
      "image/png": "[encoded data removed]",
      "text/plain": [
       "<Figure size 432x288 with 1 Axes>"
      ]
     },
     "metadata": {
      "needs_background": "light"
     },
     "output_type": "display_data"
    }
   ],
   "source": [
    "plt.hist(gdp_2014[\"GDP_Per_Capita\"],bins = 10, log = True)"
   ]
  },
  {
   "cell_type": "code",
   "execution_count": 13,
   "id": "c401d7e3",
   "metadata": {},
   "outputs": [],
   "source": [
    "gdp_2014_sorted = gdp_2014.sort_values('GDP_Per_Capita',ascending = False)"
   ]
  },
  {
   "cell_type": "code",
   "execution_count": 14,
   "id": "17df0293",
   "metadata": {},
   "outputs": [
    {
     "name": "stdout",
     "output_type": "stream",
     "text": [
      "3721    Macao SAR, China\n",
      "3691          Luxembourg\n",
      "5138               Qatar\n",
      "5464           Singapore\n",
      "561              Bermuda\n",
      "Name: Country, dtype: object\n"
     ]
    }
   ],
   "source": [
    "print(gdp_2014_sorted[\"Country\"][:5])"
   ]
  },
  {
   "cell_type": "code",
   "execution_count": 15,
   "id": "8871d4a2",
   "metadata": {},
   "outputs": [
    {
     "name": "stdout",
     "output_type": "stream",
     "text": [
      "4528                       Niger\n",
      "1422             Dem. Rep. Congo\n",
      "3781                      Malawi\n",
      "827                      Burundi\n",
      "1047    Central African Republic\n",
      "Name: Country, dtype: object\n"
     ]
    }
   ],
   "source": [
    "print(gdp_2014_sorted[\"Country\"][-5:])"
   ]
  },
  {
   "cell_type": "code",
   "execution_count": 16,
   "id": "d3fb5c6d",
   "metadata": {},
   "outputs": [
    {
     "name": "stdout",
     "output_type": "stream",
     "text": [
      "Year                         1990          2017\n",
      "Albania               4842.734635  12811.759436\n",
      "Algeria               8746.352901  11737.409353\n",
      "Angola                5783.429064   7310.901738\n",
      "Antigua and Barbuda  15459.551675  19840.076123\n",
      "Arab World            9694.667544  14555.474921\n",
      "...                           ...           ...\n",
      "Vanuatu               2888.309393   3116.645194\n",
      "Vietnam               1673.249634   7155.745829\n",
      "World                 9680.269697  16253.385518\n",
      "Zambia                2190.182814   3485.005238\n",
      "Zimbabwe              3324.348171   3028.245976\n",
      "\n",
      "[207 rows x 2 columns]\n"
     ]
    }
   ],
   "source": [
    "gdp_pivoted = pd.pivot_table(gdp_df[(gdp_df[\"Year\"] == (2017)) | (gdp_df[\"Year\"] == (1990))], values = \"GDP_Per_Capita\", index = [\"Country\"], columns = \"Year\", dropna = True)\n",
    "gdp_pivoted = gdp_pivoted.dropna()\n",
    "gdp_pivoted.index.name = None\n",
    "print(gdp_pivoted)"
   ]
  },
  {
   "cell_type": "code",
   "execution_count": 17,
   "id": "ff3fd2c3",
   "metadata": {},
   "outputs": [
    {
     "name": "stdout",
     "output_type": "stream",
     "text": [
      "Year                         1990          2017  Percent_Change\n",
      "Albania               4842.734635  12811.759436      164.556297\n",
      "Algeria               8746.352901  11737.409353       34.197756\n",
      "Angola                5783.429064   7310.901738       26.411194\n",
      "Antigua and Barbuda  15459.551675  19840.076123       28.335391\n",
      "Arab World            9694.667544  14555.474921       50.138980\n",
      "...                           ...           ...             ...\n",
      "Vanuatu               2888.309393   3116.645194        7.905517\n",
      "Vietnam               1673.249634   7155.745829      327.655604\n",
      "World                 9680.269697  16253.385518       67.902197\n",
      "Zambia                2190.182814   3485.005238       59.119377\n",
      "Zimbabwe              3324.348171   3028.245976       -8.907075\n",
      "\n",
      "[207 rows x 3 columns]\n"
     ]
    }
   ],
   "source": [
    "gdp_pivoted[\"Percent_Change\"] = 100*(gdp_pivoted[2017]-gdp_pivoted[1990]) / gdp_pivoted[1990]\n",
    "print(gdp_pivoted)"
   ]
  },
  {
   "cell_type": "code",
   "execution_count": 18,
   "id": "2b2a5140",
   "metadata": {},
   "outputs": [
    {
     "name": "stdout",
     "output_type": "stream",
     "text": [
      "17\n"
     ]
    }
   ],
   "source": [
    "gdp_neg = gdp_pivoted[gdp_pivoted[\"Percent_Change\"] < 0]\n",
    "print(gdp_neg[\"Percent_Change\"].count())"
   ]
  },
  {
   "cell_type": "code",
   "execution_count": 19,
   "id": "c0adf735",
   "metadata": {},
   "outputs": [
    {
     "name": "stdout",
     "output_type": "stream",
     "text": [
      "Equatorial Guinea    2068.404561\n",
      "Name: Percent_Change, dtype: float64\n",
      "China    907.406281\n",
      "Name: Percent_Change, dtype: float64\n"
     ]
    }
   ],
   "source": [
    "print(gdp_pivoted[\"Percent_Change\"].sort_values(ascending = False)[:1])\n",
    "print(gdp_pivoted[\"Percent_Change\"].sort_values(ascending = False)[1:2])"
   ]
  },
  {
   "cell_type": "code",
   "execution_count": 20,
   "id": "20401ce8",
   "metadata": {},
   "outputs": [
    {
     "data": {
      "text/plain": [
       "[<matplotlib.lines.Line2D at 0x15cc195d1f0>]"
      ]
     },
     "execution_count": 20,
     "metadata": {},
     "output_type": "execute_result"
    },
    {
     "data": {
      "image/png": "[encoded data removed]",
      "text/plain": [
       "<Figure size 432x288 with 1 Axes>"
      ]
     },
     "metadata": {
      "needs_background": "light"
     },
     "output_type": "display_data"
    }
   ],
   "source": [
    "one_gdp_g = gdp_df[gdp_df[\"Country\"] == \"Equatorial Guinea\"]\n",
    "plt.plot(one_gdp_g[\"Year\"],one_gdp_g[\"GDP_Per_Capita\"])"
   ]
  },
  {
   "cell_type": "code",
   "execution_count": 21,
   "id": "619fd154",
   "metadata": {},
   "outputs": [
    {
     "data": {
      "text/plain": [
       "[<matplotlib.lines.Line2D at 0x15cc19b3b50>]"
      ]
     },
     "execution_count": 21,
     "metadata": {},
     "output_type": "execute_result"
    },
    {
     "data": {
      "image/png": "[encoded data removed]",
      "text/plain": [
       "<Figure size 432x288 with 1 Axes>"
      ]
     },
     "metadata": {
      "needs_background": "light"
     },
     "output_type": "display_data"
    }
   ],
   "source": [
    "two_gdp_g = gdp_df[gdp_df[\"Country\"] == \"China\"]\n",
    "plt.plot(two_gdp_g[\"Year\"],two_gdp_g[\"GDP_Per_Capita\"])"
   ]
  },
  {
   "cell_type": "code",
   "execution_count": 22,
   "id": "09ae32ca",
   "metadata": {},
   "outputs": [
    {
     "data": {
      "text/plain": [
       "[<matplotlib.lines.Line2D at 0x15cc1a12760>]"
      ]
     },
     "execution_count": 22,
     "metadata": {},
     "output_type": "execute_result"
    },
    {
     "data": {
      "image/png": "[encoded data removed]",
      "text/plain": [
       "<Figure size 432x288 with 1 Axes>"
      ]
     },
     "metadata": {
      "needs_background": "light"
     },
     "output_type": "display_data"
    }
   ],
   "source": [
    "plt.plot(two_gdp_g[\"Year\"],two_gdp_g[\"GDP_Per_Capita\"])\n",
    "plt.plot(one_gdp_g[\"Year\"],one_gdp_g[\"GDP_Per_Capita\"])"
   ]
  },
  {
   "cell_type": "code",
   "execution_count": 23,
   "id": "b826defe",
   "metadata": {},
   "outputs": [],
   "source": [
    "continents = pd.read_csv(\"../data/continents.csv\")"
   ]
  },
  {
   "cell_type": "code",
   "execution_count": 24,
   "id": "379e5add",
   "metadata": {},
   "outputs": [
    {
     "name": "stdout",
     "output_type": "stream",
     "text": [
      "    Continent             Country\n",
      "0        Asia         Afghanistan\n",
      "1      Europe             Albania\n",
      "2      Africa             Algeria\n",
      "3      Europe             Andorra\n",
      "4      Africa              Angola\n",
      "..        ...                 ...\n",
      "211      Asia             Vietnam\n",
      "212      Asia  West Bank and Gaza\n",
      "213      Asia               Yemen\n",
      "214    Africa              Zambia\n",
      "215    Africa            Zimbabwe\n",
      "\n",
      "[216 rows x 2 columns]\n"
     ]
    }
   ],
   "source": [
    "print(continents)"
   ]
  },
  {
   "cell_type": "code",
   "execution_count": 25,
   "id": "a8ddbec1",
   "metadata": {},
   "outputs": [
    {
     "name": "stdout",
     "output_type": "stream",
     "text": [
      "          Country  Year  GDP_Per_Capita Continent\n",
      "0     Afghanistan  2019     2065.036398      Asia\n",
      "1     Afghanistan  2018     2033.779002      Asia\n",
      "2     Afghanistan  2017     2058.383832      Asia\n",
      "3     Afghanistan  2016     2057.062164      Asia\n",
      "4     Afghanistan  2015     2068.265904      Asia\n",
      "...           ...   ...             ...       ...\n",
      "5438     Zimbabwe  1994     3263.934978    Africa\n",
      "5439     Zimbabwe  1993     3033.504852    Africa\n",
      "5440     Zimbabwe  1992     3054.889178    Africa\n",
      "5441     Zimbabwe  1991     3426.598094    Africa\n",
      "5442     Zimbabwe  1990     3324.348171    Africa\n",
      "\n",
      "[5443 rows x 4 columns]\n"
     ]
    }
   ],
   "source": [
    "gdp_df = pd.merge(gdp_df, continents, how = \"inner\", on = \"Country\")\n",
    "print(gdp_df)"
   ]
  },
  {
   "cell_type": "code",
   "execution_count": 26,
   "id": "2867a634",
   "metadata": {},
   "outputs": [
    {
     "name": "stdout",
     "output_type": "stream",
     "text": [
      "Continent\n",
      "Africa           1428\n",
      "Asia             1240\n",
      "Europe           1290\n",
      "North America     761\n",
      "Oceania           394\n",
      "South America     330\n",
      "Name: Country, dtype: int64\n"
     ]
    }
   ],
   "source": [
    "print(gdp_df.groupby(\"Continent\").count()[\"Country\"])"
   ]
  },
  {
   "cell_type": "code",
   "execution_count": 27,
   "id": "e32cb4fe",
   "metadata": {},
   "outputs": [
    {
     "name": "stdout",
     "output_type": "stream",
     "text": [
      "       Continent  Country  Year  GDP_Per_Capita\n",
      "0         Africa     1428  1428            1428\n",
      "1           Asia     1240  1240            1240\n",
      "2         Europe     1290  1290            1290\n",
      "3  North America      761   761             761\n",
      "4        Oceania      394   394             394\n",
      "5  South America      330   330             330\n"
     ]
    }
   ],
   "source": [
    "gdp_bar = gdp_df.groupby(\"Continent\").count().reset_index()\n",
    "\n",
    "print(gdp_bar)"
   ]
  },
  {
   "cell_type": "code",
   "execution_count": 28,
   "id": "c738b80f",
   "metadata": {},
   "outputs": [
    {
     "data": {
      "text/plain": [
       "<BarContainer object of 6 artists>"
      ]
     },
     "execution_count": 28,
     "metadata": {},
     "output_type": "execute_result"
    },
    {
     "data": {
      "image/png": "[encoded data removed]",
      "text/plain": [
       "<Figure size 432x288 with 1 Axes>"
      ]
     },
     "metadata": {
      "needs_background": "light"
     },
     "output_type": "display_data"
    }
   ],
   "source": [
    "plt.bar(x = gdp_bar[\"Continent\"], height = gdp_bar[\"Country\"])\n",
    "#gdp_df.bar(x = gdp_df.groupby(\"Continent\").count())"
   ]
  },
  {
   "cell_type": "code",
   "execution_count": 29,
   "id": "db5dfec8",
   "metadata": {},
   "outputs": [
    {
     "name": "stdout",
     "output_type": "stream",
     "text": [
      "                Year  GDP_Per_Capita\n",
      "Continent                           \n",
      "Africa         98686    2.928373e+05\n",
      "Asia           86602    1.111780e+06\n",
      "Europe         90630    1.532948e+06\n",
      "North America  52364    6.189731e+05\n",
      "Oceania        28196    1.621359e+05\n",
      "South America  22154    1.707547e+05\n"
     ]
    }
   ],
   "source": [
    "print(gdp_df[gdp_df[\"Year\"]==2014].groupby(\"Continent\").sum())"
   ]
  },
  {
   "cell_type": "code",
   "execution_count": 30,
   "id": "c133796f",
   "metadata": {},
   "outputs": [
    {
     "data": {
      "image/png": "[encoded data removed]",
      "text/plain": [
       "<Figure size 432x288 with 1 Axes>"
      ]
     },
     "metadata": {
      "needs_background": "light"
     },
     "output_type": "display_data"
    }
   ],
   "source": [
    "sns.boxplot(data = gdp_df[gdp_df[\"Year\"]==2014],x = \"Continent\", y = \"GDP_Per_Capita\");"
   ]
  },
  {
   "cell_type": "code",
   "execution_count": 31,
   "id": "c005ab54",
   "metadata": {},
   "outputs": [
    {
     "name": "stderr",
     "output_type": "stream",
     "text": [
      "Skipping line 4675: ',' expected after '\"'. Error could possibly be due to parsing errors in the skipped footer rows (the skipfooter keyword is only applied after Python's csv library has parsed all rows).\n"
     ]
    }
   ],
   "source": [
    "internet_df = pd.read_csv(\"../data/internet_use.csv\", error_bad_lines=False, keep_default_na = False, skipfooter = 180, engine='python')"
   ]
  },
  {
   "cell_type": "code",
   "execution_count": 32,
   "id": "5791a2cc",
   "metadata": {},
   "outputs": [
    {
     "name": "stdout",
     "output_type": "stream",
     "text": [
      "     Country or Area  Year     Value Value Footnotes\n",
      "0        Afghanistan  2014  6.390000                \n",
      "1        Afghanistan  2013  5.900000                \n",
      "2        Afghanistan  2012  5.454545                \n",
      "3        Afghanistan  2011  5.000000                \n",
      "4        Afghanistan  2010  4.000000                \n",
      "...              ...   ...       ...             ...\n",
      "4490        Zimbabwe  1997  0.033080                \n",
      "4491        Zimbabwe  1996  0.016790                \n",
      "4492        Zimbabwe  1995  0.007684                \n",
      "4493        Zimbabwe  1994  0.001739                \n",
      "4494        Zimbabwe  1990  0.000000                \n",
      "\n",
      "[4495 rows x 4 columns]\n"
     ]
    }
   ],
   "source": [
    "print(internet_df)"
   ]
  },
  {
   "cell_type": "code",
   "execution_count": 33,
   "id": "0e099a89",
   "metadata": {},
   "outputs": [
    {
     "name": "stdout",
     "output_type": "stream",
     "text": [
      "     Country or Area  Year     Value\n",
      "0        Afghanistan  2014  6.390000\n",
      "1        Afghanistan  2013  5.900000\n",
      "2        Afghanistan  2012  5.454545\n",
      "3        Afghanistan  2011  5.000000\n",
      "4        Afghanistan  2010  4.000000\n",
      "...              ...   ...       ...\n",
      "4490        Zimbabwe  1997  0.033080\n",
      "4491        Zimbabwe  1996  0.016790\n",
      "4492        Zimbabwe  1995  0.007684\n",
      "4493        Zimbabwe  1994  0.001739\n",
      "4494        Zimbabwe  1990  0.000000\n",
      "\n",
      "[4495 rows x 3 columns]\n"
     ]
    }
   ],
   "source": [
    "internet_df.drop(\"Value Footnotes\", axis = 1, inplace = True)\n",
    "print(internet_df)"
   ]
  },
  {
   "cell_type": "code",
   "execution_count": 34,
   "id": "7a660bc1",
   "metadata": {},
   "outputs": [
    {
     "name": "stdout",
     "output_type": "stream",
     "text": [
      "          Country  Year  Internet_Users_Pct\n",
      "0     Afghanistan  2014            6.390000\n",
      "1     Afghanistan  2013            5.900000\n",
      "2     Afghanistan  2012            5.454545\n",
      "3     Afghanistan  2011            5.000000\n",
      "4     Afghanistan  2010            4.000000\n",
      "...           ...   ...                 ...\n",
      "4490     Zimbabwe  1997            0.033080\n",
      "4491     Zimbabwe  1996            0.016790\n",
      "4492     Zimbabwe  1995            0.007684\n",
      "4493     Zimbabwe  1994            0.001739\n",
      "4494     Zimbabwe  1990            0.000000\n",
      "\n",
      "[4495 rows x 3 columns]\n"
     ]
    }
   ],
   "source": [
    "internet_df = internet_df.rename(columns = {\"Country or Area\":\"Country\",\"Year\":\"Year\",\"Value\":\"Internet_Users_Pct\"})\n",
    "print(internet_df)"
   ]
  },
  {
   "cell_type": "code",
   "execution_count": 35,
   "id": "00f95abb",
   "metadata": {},
   "outputs": [
    {
     "name": "stdout",
     "output_type": "stream",
     "text": [
      "<class 'pandas.core.frame.DataFrame'>\n",
      "RangeIndex: 4495 entries, 0 to 4494\n",
      "Data columns (total 3 columns):\n",
      " #   Column              Non-Null Count  Dtype  \n",
      "---  ------              --------------  -----  \n",
      " 0   Country             4495 non-null   object \n",
      " 1   Year                4495 non-null   int64  \n",
      " 2   Internet_Users_Pct  4495 non-null   float64\n",
      "dtypes: float64(1), int64(1), object(1)\n",
      "memory usage: 105.5+ KB\n",
      "None\n"
     ]
    }
   ],
   "source": [
    "print(internet_df.info())"
   ]
  },
  {
   "cell_type": "code",
   "execution_count": 36,
   "id": "b22cbf62",
   "metadata": {},
   "outputs": [
    {
     "name": "stdout",
     "output_type": "stream",
     "text": [
      "1990\n"
     ]
    }
   ],
   "source": [
    "print(internet_df[internet_df[\"Internet_Users_Pct\"] > 0][\"Year\"].min())"
   ]
  },
  {
   "cell_type": "code",
   "execution_count": 37,
   "id": "22f3ac8e",
   "metadata": {},
   "outputs": [
    {
     "name": "stdout",
     "output_type": "stream",
     "text": [
      "      Internet_Users_Pct\n",
      "Year                    \n",
      "1990            0.264891\n",
      "1991            0.352641\n",
      "1992            0.463997\n",
      "1993            0.548085\n",
      "1994            0.757138\n",
      "1995            1.037218\n",
      "1996            1.489119\n",
      "1997            2.499435\n",
      "1998            3.969595\n",
      "1999            5.952221\n",
      "2000            8.931045\n",
      "2001           10.993860\n",
      "2002           14.069361\n",
      "2003           16.671270\n",
      "2004           19.163051\n",
      "2005           21.393010\n",
      "2006           24.039098\n",
      "2007           25.805788\n",
      "2008           28.642722\n",
      "2009           31.378214\n",
      "2010           34.452751\n",
      "2011           37.764590\n",
      "2012           40.553698\n",
      "2013           42.842633\n",
      "2014           45.474975\n"
     ]
    }
   ],
   "source": [
    "internet_use_graph = internet_df[internet_df[\"Internet_Users_Pct\"] > 0].groupby(\"Year\").mean()\n",
    "print(internet_use_graph)"
   ]
  },
  {
   "cell_type": "code",
   "execution_count": 38,
   "id": "cd194e70",
   "metadata": {},
   "outputs": [
    {
     "data": {
      "text/plain": [
       "[<matplotlib.lines.Line2D at 0x15cc1beb3d0>]"
      ]
     },
     "execution_count": 38,
     "metadata": {},
     "output_type": "execute_result"
    },
    {
     "data": {
      "image/png": "[encoded data removed]",
      "text/plain": [
       "<Figure size 432x288 with 1 Axes>"
      ]
     },
     "metadata": {
      "needs_background": "light"
     },
     "output_type": "display_data"
    }
   ],
   "source": [
    "plt.plot(internet_use_graph)"
   ]
  },
  {
   "cell_type": "code",
   "execution_count": 39,
   "id": "0aef7f2f",
   "metadata": {},
   "outputs": [
    {
     "name": "stdout",
     "output_type": "stream",
     "text": [
      "                    Country  Year  Internet_Users_Pct\n",
      "0               Afghanistan  2014                6.39\n",
      "15                  Albania  2014               60.10\n",
      "36                  Algeria  2014               18.09\n",
      "58           American Samoa  1990                0.00\n",
      "59                  Andorra  2014               95.90\n",
      "...                     ...   ...                 ...\n",
      "4389               Viet Nam  2014               48.31\n",
      "4409  Virgin Islands (U.S.)  2014               50.07\n",
      "4431                  Yemen  2014               22.55\n",
      "4451                 Zambia  2014               17.34\n",
      "4473               Zimbabwe  2014               19.89\n",
      "\n",
      "[213 rows x 3 columns]\n",
      "213\n"
     ]
    }
   ],
   "source": [
    "un_internet = internet_df.drop_duplicates(\"Country\")\n",
    "print(un_internet)\n",
    "print(len(pd.unique(internet_df[\"Country\"])))"
   ]
  },
  {
   "cell_type": "code",
   "execution_count": 40,
   "id": "473a96af",
   "metadata": {},
   "outputs": [
    {
     "name": "stdout",
     "output_type": "stream",
     "text": [
      "0               Afghanistan\n",
      "18                  Albania\n",
      "48                  Algeria\n",
      "78                   Angola\n",
      "108     Antigua and Barbuda\n",
      "               ...         \n",
      "5297                Vanuatu\n",
      "5327                Vietnam\n",
      "5357     West Bank and Gaza\n",
      "5383                 Zambia\n",
      "5413               Zimbabwe\n",
      "Name: Country, Length: 188, dtype: object\n",
      "188\n"
     ]
    }
   ],
   "source": [
    "un_gdp = gdp_df[\"Country\"].drop_duplicates()\n",
    "print(un_gdp)\n",
    "print(len(pd.unique(gdp_df[\"Country\"])))"
   ]
  },
  {
   "cell_type": "code",
   "execution_count": 41,
   "id": "cfb13a71",
   "metadata": {},
   "outputs": [
    {
     "name": "stdout",
     "output_type": "stream",
     "text": [
      "                 Country  Year  Internet_Users_Pct\n",
      "0            Afghanistan  2014                6.39\n",
      "1                Albania  2014               60.10\n",
      "2                Algeria  2014               18.09\n",
      "3                 Angola  2014               21.26\n",
      "4    Antigua and Barbuda  2014               64.00\n",
      "..                   ...   ...                 ...\n",
      "162              Uruguay  2014               61.46\n",
      "163           Uzbekistan  2014               43.55\n",
      "164              Vanuatu  2014               18.80\n",
      "165               Zambia  2014               17.34\n",
      "166             Zimbabwe  2014               19.89\n",
      "\n",
      "[167 rows x 3 columns]\n"
     ]
    }
   ],
   "source": [
    "test_join = pd.merge(un_gdp, un_internet, how = \"inner\", on = \"Country\")\n",
    "print(test_join)"
   ]
  },
  {
   "cell_type": "code",
   "execution_count": 42,
   "id": "2536be5d",
   "metadata": {},
   "outputs": [
    {
     "ename": "AttributeError",
     "evalue": "'DataFrame' object has no attribute 'tolist'",
     "output_type": "error",
     "traceback": [
      "\u001b[1;31m---------------------------------------------------------------------------\u001b[0m",
      "\u001b[1;31mAttributeError\u001b[0m                            Traceback (most recent call last)",
      "\u001b[1;32m<ipython-input-42-1fa7931365fd>\u001b[0m in \u001b[0;36m<module>\u001b[1;34m\u001b[0m\n\u001b[0;32m      1\u001b[0m \u001b[0mgdp_list\u001b[0m \u001b[1;33m=\u001b[0m \u001b[0mun_gdp\u001b[0m\u001b[1;33m.\u001b[0m\u001b[0mtolist\u001b[0m\u001b[1;33m(\u001b[0m\u001b[1;33m)\u001b[0m\u001b[1;33m\u001b[0m\u001b[1;33m\u001b[0m\u001b[0m\n\u001b[1;32m----> 2\u001b[1;33m \u001b[0mun_list\u001b[0m \u001b[1;33m=\u001b[0m \u001b[0mun_internet\u001b[0m\u001b[1;33m.\u001b[0m\u001b[0mtolist\u001b[0m\u001b[1;33m(\u001b[0m\u001b[1;33m)\u001b[0m\u001b[1;33m\u001b[0m\u001b[1;33m\u001b[0m\u001b[0m\n\u001b[0m\u001b[0;32m      3\u001b[0m \u001b[0mtest_list\u001b[0m \u001b[1;33m=\u001b[0m \u001b[0mtest_join\u001b[0m\u001b[1;33m[\u001b[0m\u001b[1;34m\"Country\"\u001b[0m\u001b[1;33m]\u001b[0m\u001b[1;33m.\u001b[0m\u001b[0mtolist\u001b[0m\u001b[1;33m(\u001b[0m\u001b[1;33m)\u001b[0m\u001b[1;33m\u001b[0m\u001b[1;33m\u001b[0m\u001b[0m\n\u001b[0;32m      4\u001b[0m \u001b[0mnotinlist\u001b[0m \u001b[1;33m=\u001b[0m \u001b[1;33m[\u001b[0m\u001b[1;33m]\u001b[0m\u001b[1;33m\u001b[0m\u001b[1;33m\u001b[0m\u001b[0m\n\u001b[0;32m      5\u001b[0m \u001b[0mnotintest\u001b[0m \u001b[1;33m=\u001b[0m \u001b[1;33m[\u001b[0m\u001b[1;33m]\u001b[0m\u001b[1;33m\u001b[0m\u001b[1;33m\u001b[0m\u001b[0m\n",
      "\u001b[1;32m~\\anaconda3\\lib\\site-packages\\pandas\\core\\generic.py\u001b[0m in \u001b[0;36m__getattr__\u001b[1;34m(self, name)\u001b[0m\n\u001b[0;32m   5463\u001b[0m             \u001b[1;32mif\u001b[0m \u001b[0mself\u001b[0m\u001b[1;33m.\u001b[0m\u001b[0m_info_axis\u001b[0m\u001b[1;33m.\u001b[0m\u001b[0m_can_hold_identifiers_and_holds_name\u001b[0m\u001b[1;33m(\u001b[0m\u001b[0mname\u001b[0m\u001b[1;33m)\u001b[0m\u001b[1;33m:\u001b[0m\u001b[1;33m\u001b[0m\u001b[1;33m\u001b[0m\u001b[0m\n\u001b[0;32m   5464\u001b[0m                 \u001b[1;32mreturn\u001b[0m \u001b[0mself\u001b[0m\u001b[1;33m[\u001b[0m\u001b[0mname\u001b[0m\u001b[1;33m]\u001b[0m\u001b[1;33m\u001b[0m\u001b[1;33m\u001b[0m\u001b[0m\n\u001b[1;32m-> 5465\u001b[1;33m             \u001b[1;32mreturn\u001b[0m \u001b[0mobject\u001b[0m\u001b[1;33m.\u001b[0m\u001b[0m__getattribute__\u001b[0m\u001b[1;33m(\u001b[0m\u001b[0mself\u001b[0m\u001b[1;33m,\u001b[0m \u001b[0mname\u001b[0m\u001b[1;33m)\u001b[0m\u001b[1;33m\u001b[0m\u001b[1;33m\u001b[0m\u001b[0m\n\u001b[0m\u001b[0;32m   5466\u001b[0m \u001b[1;33m\u001b[0m\u001b[0m\n\u001b[0;32m   5467\u001b[0m     \u001b[1;32mdef\u001b[0m \u001b[0m__setattr__\u001b[0m\u001b[1;33m(\u001b[0m\u001b[0mself\u001b[0m\u001b[1;33m,\u001b[0m \u001b[0mname\u001b[0m\u001b[1;33m:\u001b[0m \u001b[0mstr\u001b[0m\u001b[1;33m,\u001b[0m \u001b[0mvalue\u001b[0m\u001b[1;33m)\u001b[0m \u001b[1;33m->\u001b[0m \u001b[1;32mNone\u001b[0m\u001b[1;33m:\u001b[0m\u001b[1;33m\u001b[0m\u001b[1;33m\u001b[0m\u001b[0m\n",
      "\u001b[1;31mAttributeError\u001b[0m: 'DataFrame' object has no attribute 'tolist'"
     ]
    }
   ],
   "source": [
    "gdp_list = un_gdp.tolist()\n",
    "un_list = un_internet.tolist()\n",
    "test_list = test_join[\"Country\"].tolist()\n",
    "notinlist = []\n",
    "notintest = []\n",
    "for x in gdp_list:\n",
    "    if x not in test_list:\n",
    "        notinlist.append(x)\n",
    "print(notinlist)\n",
    "print(len(notinlist))\n",
    "for x in un_list:\n",
    "    if x not in test_list:\n",
    "        notintest.append(x)\n",
    "print(notintest)"
   ]
  },
  {
   "cell_type": "code",
   "execution_count": 45,
   "id": "009853da",
   "metadata": {},
   "outputs": [
    {
     "name": "stdout",
     "output_type": "stream",
     "text": [
      "replaceing Cape Verde with Cabo Verde\n",
      "replaceing Central African Rep. with Central African Republic\n",
      "replaceing Congo (Democratic Republic of the) with Dem. Rep. Congo\n",
      "replaceing Dominican Rep. with Dominican Republic\n",
      "replaceing Hong Kong, China with Hong Kong SAR, China\n",
      "replaceing Iran (Islamic Rep. of) with Iran\n",
      "replaceing Dem. People's Rep. of Korea with Korea\n",
      "replaceing Kyrgyzstan with Kyrgyz Republic\n",
      "replaceing Lao P.D.R. with Lao PDR\n",
      "replaceing Macao, China with Macao SAR, China\n",
      "replaceing Micronesia (Fed. States of) with Micronesia\n",
      "replaceing T.F.Y.R. Macedonia with North Macedonia\n",
      "replaceing Saint Kitts and Nevis with St. Kitts and Nevis\n",
      "replaceing Saint Lucia with St. Lucia\n",
      "replaceing Bahamas with The Bahamas\n",
      "replaceing Gambia with The Gambia\n",
      "replaceing Viet Nam with Vietnam\n",
      "replaceing Palestine with West Bank and Gaza\n",
      "          Country  Year  Internet_Users_Pct\n",
      "0     Afghanistan  2014            6.390000\n",
      "1     Afghanistan  2013            5.900000\n",
      "2     Afghanistan  2012            5.454545\n",
      "3     Afghanistan  2011            5.000000\n",
      "4     Afghanistan  2010            4.000000\n",
      "...           ...   ...                 ...\n",
      "4490     Zimbabwe  1997            0.033080\n",
      "4491     Zimbabwe  1996            0.016790\n",
      "4492     Zimbabwe  1995            0.007684\n",
      "4493     Zimbabwe  1994            0.001739\n",
      "4494     Zimbabwe  1990            0.000000\n",
      "\n",
      "[4495 rows x 3 columns]\n"
     ]
    }
   ],
   "source": [
    "gdp_replace = ['Cabo Verde','Central African Republic', 'Dem. Rep. Congo', 'Dominican Republic', 'Hong Kong SAR, China', 'Iran', 'Korea', 'Kyrgyz Republic', 'Lao PDR', 'Macao SAR, China', 'Micronesia', 'North Macedonia', 'St. Kitts and Nevis', 'St. Lucia', 'The Bahamas', 'The Gambia', 'Vietnam', 'West Bank and Gaza']\n",
    "internet_replace = ['Cape Verde', 'Central African Rep.', 'Congo (Democratic Republic of the)', 'Dominican Rep.', 'Hong Kong, China','Iran (Islamic Rep. of)', \"Dem. People's Rep. of Korea\", 'Kyrgyzstan', 'Lao P.D.R.', 'Macao, China', 'Micronesia (Fed. States of)', 'T.F.Y.R. Macedonia', 'Saint Kitts and Nevis', 'Saint Lucia', 'Bahamas', 'Gambia', 'Viet Nam', 'Palestine']\n",
    "for x, y in zip(gdp_replace, internet_replace):\n",
    "    internet_df.loc[internet_df[\"Country\"] == y,\"Country\"] = x\n",
    "    print(\"replaceing {} with {}\".format(y,x))\n",
    "#un_internet.loc[un_internet[\"Country\"] == \"Afghanistan\"] = \"AFGHANISTAN\"\n",
    "print(internet_df)"
   ]
  },
  {
   "cell_type": "code",
   "execution_count": 47,
   "id": "94997638",
   "metadata": {},
   "outputs": [
    {
     "name": "stdout",
     "output_type": "stream",
     "text": [
      "Country                Vietnam\n",
      "Year                      1998\n",
      "Internet_Users_Pct    0.013079\n",
      "Name: 4405, dtype: object\n"
     ]
    }
   ],
   "source": [
    "print(internet_df.loc[4405])"
   ]
  },
  {
   "cell_type": "code",
   "execution_count": 48,
   "id": "61ee13a4",
   "metadata": {},
   "outputs": [
    {
     "name": "stdout",
     "output_type": "stream",
     "text": [
      "          Country  Year  GDP_Per_Capita Continent  Internet_Users_Pct\n",
      "0     Afghanistan  2014     2102.385234      Asia            6.390000\n",
      "1     Afghanistan  2013     2116.465454      Asia            5.900000\n",
      "2     Afghanistan  2012     2075.491747      Asia            5.454545\n",
      "3     Afghanistan  2011     1904.559799      Asia            5.000000\n",
      "4     Afghanistan  2010     1957.029338      Asia            4.000000\n",
      "...           ...   ...             ...       ...                 ...\n",
      "3815     Zimbabwe  1997     3580.048793    Africa            0.033080\n",
      "3816     Zimbabwe  1996     3520.430146    Africa            0.016790\n",
      "3817     Zimbabwe  1995     3226.413930    Africa            0.007684\n",
      "3818     Zimbabwe  1994     3263.934978    Africa            0.001739\n",
      "3819     Zimbabwe  1990     3324.348171    Africa            0.000000\n",
      "\n",
      "[3820 rows x 5 columns]\n"
     ]
    }
   ],
   "source": [
    "new_join = pd.merge(gdp_df,internet_df, how = \"inner\", on = [\"Country\",\"Year\"])\n",
    "print(new_join)\n",
    "#test_join = pd.merge(un_gdp, un_internet, how = \"inner\", on = \"Country\")"
   ]
  },
  {
   "cell_type": "code",
   "execution_count": null,
   "id": "6f5cf227",
   "metadata": {},
   "outputs": [],
   "source": []
  }
 ],
 "metadata": {
  "kernelspec": {
   "display_name": "Python 3",
   "language": "python",
   "name": "python3"
  },
  "language_info": {
   "codemirror_mode": {
    "name": "ipython",
    "version": 3
   },
   "file_extension": ".py",
   "mimetype": "text/x-python",
   "name": "python",
   "nbconvert_exporter": "python",
   "pygments_lexer": "ipython3",
   "version": "3.8.8"
  }
 },
 "nbformat": 4,
 "nbformat_minor": 5
}
