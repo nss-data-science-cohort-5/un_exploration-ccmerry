{
 "cells": [
  {
   "cell_type": "code",
   "execution_count": 1,
   "id": "92bcfa99",
   "metadata": {},
   "outputs": [],
   "source": [
    "import pandas as pd\n",
    "import numpy as np\n",
    "import matplotlib.pyplot as plt\n",
    "import seaborn as sns"
   ]
  },
  {
   "cell_type": "code",
   "execution_count": 2,
   "id": "17e6588a",
   "metadata": {},
   "outputs": [],
   "source": [
    "gdp_df = pd.read_csv(\"../data/gdp_per_capita.csv\",keep_default_na = False, skipfooter = 3,engine='python')"
   ]
  },
  {
   "cell_type": "code",
   "execution_count": 3,
   "id": "2bf5f158",
   "metadata": {},
   "outputs": [],
   "source": [
    "gdp_df = gdp_df.drop(columns = ['Value Footnotes'])"
   ]
  },
  {
   "cell_type": "code",
   "execution_count": 4,
   "id": "0d8fb1c3",
   "metadata": {},
   "outputs": [],
   "source": [
    "gdp_df = gdp_df.rename(columns={'Country or Area': 'Country', 'Value': 'GDP_Per_Capita'})"
   ]
  },
  {
   "cell_type": "code",
   "execution_count": 5,
   "id": "c7743f45",
   "metadata": {},
   "outputs": [
    {
     "name": "stdout",
     "output_type": "stream",
     "text": [
      "          Country  Year  GDP_Per_Capita\n",
      "0     Afghanistan  2019     2065.036398\n",
      "1     Afghanistan  2018     2033.779002\n",
      "2     Afghanistan  2017     2058.383832\n",
      "3     Afghanistan  2016     2057.062164\n",
      "4     Afghanistan  2015     2068.265904\n",
      "...           ...   ...             ...\n",
      "6863     Zimbabwe  1994     3263.934978\n",
      "6864     Zimbabwe  1993     3033.504852\n",
      "6865     Zimbabwe  1992     3054.889178\n",
      "6866     Zimbabwe  1991     3426.598094\n",
      "6867     Zimbabwe  1990     3324.348171\n",
      "\n",
      "[6868 rows x 3 columns]\n"
     ]
    }
   ],
   "source": [
    "print(gdp_df)"
   ]
  },
  {
   "cell_type": "code",
   "execution_count": 6,
   "id": "92ad51a0",
   "metadata": {},
   "outputs": [
    {
     "name": "stdout",
     "output_type": "stream",
     "text": [
      "<class 'pandas.core.frame.DataFrame'>\n",
      "RangeIndex: 6868 entries, 0 to 6867\n",
      "Data columns (total 3 columns):\n",
      " #   Column          Non-Null Count  Dtype  \n",
      "---  ------          --------------  -----  \n",
      " 0   Country         6868 non-null   object \n",
      " 1   Year            6868 non-null   int64  \n",
      " 2   GDP_Per_Capita  6868 non-null   float64\n",
      "dtypes: float64(1), int64(1), object(1)\n",
      "memory usage: 161.1+ KB\n",
      "None\n"
     ]
    }
   ],
   "source": [
    "print(gdp_df.info())"
   ]
  },
  {
   "cell_type": "code",
   "execution_count": 7,
   "id": "82a15474",
   "metadata": {},
   "outputs": [
    {
     "name": "stdout",
     "output_type": "stream",
     "text": [
      "2013    238\n",
      "2014    238\n",
      "2016    238\n",
      "2015    238\n",
      "2017    238\n",
      "2012    237\n",
      "2018    237\n",
      "2011    237\n",
      "2009    236\n",
      "2010    236\n",
      "2007    235\n",
      "2008    235\n",
      "2006    235\n",
      "2004    234\n",
      "2005    234\n",
      "2002    233\n",
      "2003    233\n",
      "2001    232\n",
      "2019    231\n",
      "2000    231\n",
      "1999    224\n",
      "1998    223\n",
      "1997    223\n",
      "1996    221\n",
      "1995    221\n",
      "1994    214\n",
      "1993    212\n",
      "1992    209\n",
      "1991    208\n",
      "1990    207\n",
      "Name: Year, dtype: int64\n"
     ]
    }
   ],
   "source": [
    "print(gdp_df[\"Year\"].value_counts())"
   ]
  },
  {
   "cell_type": "code",
   "execution_count": 8,
   "id": "46dc0b24",
   "metadata": {},
   "outputs": [
    {
     "name": "stdout",
     "output_type": "stream",
     "text": [
      "World                        30\n",
      "Mozambique                   30\n",
      "North Macedonia              30\n",
      "Israel                       30\n",
      "Guinea-Bissau                30\n",
      "                             ..\n",
      "Nauru                        16\n",
      "Cayman Islands               13\n",
      "Sint Maarten (Dutch part)    10\n",
      "Turks and Caicos Islands      9\n",
      "Djibouti                      7\n",
      "Name: Country, Length: 238, dtype: int64\n"
     ]
    }
   ],
   "source": [
    "print(gdp_df[\"Country\"].value_counts())"
   ]
  },
  {
   "cell_type": "code",
   "execution_count": 9,
   "id": "6af58d26",
   "metadata": {},
   "outputs": [],
   "source": [
    "gdp_2014 = gdp_df[gdp_df[\"Year\"] == 2014]"
   ]
  },
  {
   "cell_type": "code",
   "execution_count": 10,
   "id": "b5dd7b7f",
   "metadata": {},
   "outputs": [
    {
     "name": "stdout",
     "output_type": "stream",
     "text": [
      "                  Country  Year  GDP_Per_Capita\n",
      "5             Afghanistan  2014     2102.385234\n",
      "23                Albania  2014    11623.866679\n",
      "53                Algeria  2014    11512.705405\n",
      "83                 Angola  2014     8239.828837\n",
      "113   Antigua and Barbuda  2014    18104.241470\n",
      "...                   ...   ...             ...\n",
      "6727              Vietnam  2014     6098.489609\n",
      "6757   West Bank and Gaza  2014     5967.073437\n",
      "6783                World  2014    15189.648507\n",
      "6813               Zambia  2014     3450.046561\n",
      "6843             Zimbabwe  2014     2955.240287\n",
      "\n",
      "[238 rows x 3 columns]\n"
     ]
    }
   ],
   "source": [
    "print(gdp_2014)"
   ]
  },
  {
   "cell_type": "code",
   "execution_count": 11,
   "id": "1f71c9f3",
   "metadata": {},
   "outputs": [
    {
     "data": {
      "text/html": [
       "<div>\n",
       "<style scoped>\n",
       "    .dataframe tbody tr th:only-of-type {\n",
       "        vertical-align: middle;\n",
       "    }\n",
       "\n",
       "    .dataframe tbody tr th {\n",
       "        vertical-align: top;\n",
       "    }\n",
       "\n",
       "    .dataframe thead th {\n",
       "        text-align: right;\n",
       "    }\n",
       "</style>\n",
       "<table border=\"1\" class=\"dataframe\">\n",
       "  <thead>\n",
       "    <tr style=\"text-align: right;\">\n",
       "      <th></th>\n",
       "      <th>Year</th>\n",
       "      <th>GDP_Per_Capita</th>\n",
       "    </tr>\n",
       "  </thead>\n",
       "  <tbody>\n",
       "    <tr>\n",
       "      <th>count</th>\n",
       "      <td>238.0</td>\n",
       "      <td>238.000000</td>\n",
       "    </tr>\n",
       "    <tr>\n",
       "      <th>mean</th>\n",
       "      <td>2014.0</td>\n",
       "      <td>19766.710348</td>\n",
       "    </tr>\n",
       "    <tr>\n",
       "      <th>std</th>\n",
       "      <td>0.0</td>\n",
       "      <td>20983.869623</td>\n",
       "    </tr>\n",
       "    <tr>\n",
       "      <th>min</th>\n",
       "      <td>2014.0</td>\n",
       "      <td>822.610458</td>\n",
       "    </tr>\n",
       "    <tr>\n",
       "      <th>25%</th>\n",
       "      <td>2014.0</td>\n",
       "      <td>4753.110934</td>\n",
       "    </tr>\n",
       "    <tr>\n",
       "      <th>50%</th>\n",
       "      <td>2014.0</td>\n",
       "      <td>12209.385755</td>\n",
       "    </tr>\n",
       "    <tr>\n",
       "      <th>75%</th>\n",
       "      <td>2014.0</td>\n",
       "      <td>26803.610474</td>\n",
       "    </tr>\n",
       "    <tr>\n",
       "      <th>max</th>\n",
       "      <td>2014.0</td>\n",
       "      <td>156514.133850</td>\n",
       "    </tr>\n",
       "  </tbody>\n",
       "</table>\n",
       "</div>"
      ],
      "text/plain": [
       "         Year  GDP_Per_Capita\n",
       "count   238.0      238.000000\n",
       "mean   2014.0    19766.710348\n",
       "std       0.0    20983.869623\n",
       "min    2014.0      822.610458\n",
       "25%    2014.0     4753.110934\n",
       "50%    2014.0    12209.385755\n",
       "75%    2014.0    26803.610474\n",
       "max    2014.0   156514.133850"
      ]
     },
     "execution_count": 11,
     "metadata": {},
     "output_type": "execute_result"
    }
   ],
   "source": [
    "gdp_2014.describe()"
   ]
  },
  {
   "cell_type": "code",
   "execution_count": 12,
   "id": "baaa0d3e",
   "metadata": {},
   "outputs": [
    {
     "data": {
      "text/plain": [
       "(array([146.,  41.,  25.,  18.,   4.,   1.,   2.,   0.,   0.,   1.]),\n",
       " array([   822.61045782,  16391.76279701,  31960.91513621,  47530.06747541,\n",
       "         63099.2198146 ,  78668.3721538 ,  94237.524493  , 109806.67683219,\n",
       "        125375.82917139, 140944.98151059, 156514.13384978]),\n",
       " <BarContainer object of 10 artists>)"
      ]
     },
     "execution_count": 12,
     "metadata": {},
     "output_type": "execute_result"
    },
    {
     "data": {
      "image/png": "[encoded data removed]",
      "text/plain": [
       "<Figure size 432x288 with 1 Axes>"
      ]
     },
     "metadata": {
      "needs_background": "light"
     },
     "output_type": "display_data"
    }
   ],
   "source": [
    "plt.hist(gdp_2014[\"GDP_Per_Capita\"],bins = 10, log = True)"
   ]
  },
  {
   "cell_type": "code",
   "execution_count": 13,
   "id": "f1387378",
   "metadata": {},
   "outputs": [],
   "source": [
    "gdp_2014_sorted = gdp_2014.sort_values('GDP_Per_Capita',ascending = False)"
   ]
  },
  {
   "cell_type": "code",
   "execution_count": 14,
   "id": "39784ad1",
   "metadata": {},
   "outputs": [
    {
     "name": "stdout",
     "output_type": "stream",
     "text": [
      "3721    Macao SAR, China\n",
      "3691          Luxembourg\n",
      "5138               Qatar\n",
      "5464           Singapore\n",
      "561              Bermuda\n",
      "Name: Country, dtype: object\n"
     ]
    }
   ],
   "source": [
    "print(gdp_2014_sorted[\"Country\"][:5])"
   ]
  },
  {
   "cell_type": "code",
   "execution_count": 15,
   "id": "d296e240",
   "metadata": {},
   "outputs": [
    {
     "name": "stdout",
     "output_type": "stream",
     "text": [
      "4528                       Niger\n",
      "1422             Dem. Rep. Congo\n",
      "3781                      Malawi\n",
      "827                      Burundi\n",
      "1047    Central African Republic\n",
      "Name: Country, dtype: object\n"
     ]
    }
   ],
   "source": [
    "print(gdp_2014_sorted[\"Country\"][-5:])"
   ]
  },
  {
   "cell_type": "code",
   "execution_count": 16,
   "id": "4f1668cc",
   "metadata": {},
   "outputs": [
    {
     "name": "stdout",
     "output_type": "stream",
     "text": [
      "Year                         1990          2017\n",
      "Albania               4842.734635  12811.759436\n",
      "Algeria               8746.352901  11737.409353\n",
      "Angola                5783.429064   7310.901738\n",
      "Antigua and Barbuda  15459.551675  19840.076123\n",
      "Arab World            9694.667544  14555.474921\n",
      "...                           ...           ...\n",
      "Vanuatu               2888.309393   3116.645194\n",
      "Vietnam               1673.249634   7155.745829\n",
      "World                 9680.269697  16253.385518\n",
      "Zambia                2190.182814   3485.005238\n",
      "Zimbabwe              3324.348171   3028.245976\n",
      "\n",
      "[207 rows x 2 columns]\n"
     ]
    }
   ],
   "source": [
    "gdp_pivoted = pd.pivot_table(gdp_df[(gdp_df[\"Year\"] == (2017)) | (gdp_df[\"Year\"] == (1990))], values = \"GDP_Per_Capita\", index = [\"Country\"], columns = \"Year\", dropna = True)\n",
    "gdp_pivoted = gdp_pivoted.dropna()\n",
    "gdp_pivoted.index.name = None\n",
    "print(gdp_pivoted)"
   ]
  },
  {
   "cell_type": "code",
   "execution_count": 21,
   "id": "f9d0b140",
   "metadata": {},
   "outputs": [
    {
     "name": "stdout",
     "output_type": "stream",
     "text": [
      "Year                         1990          2017  Percent_Change\n",
      "Albania               4842.734635  12811.759436      164.556297\n",
      "Algeria               8746.352901  11737.409353       34.197756\n",
      "Angola                5783.429064   7310.901738       26.411194\n",
      "Antigua and Barbuda  15459.551675  19840.076123       28.335391\n",
      "Arab World            9694.667544  14555.474921       50.138980\n",
      "...                           ...           ...             ...\n",
      "Vanuatu               2888.309393   3116.645194        7.905517\n",
      "Vietnam               1673.249634   7155.745829      327.655604\n",
      "World                 9680.269697  16253.385518       67.902197\n",
      "Zambia                2190.182814   3485.005238       59.119377\n",
      "Zimbabwe              3324.348171   3028.245976       -8.907075\n",
      "\n",
      "[207 rows x 3 columns]\n"
     ]
    }
   ],
   "source": [
    "gdp_pivoted[\"Percent_Change\"] = 100*(gdp_pivoted[2017]-gdp_pivoted[1990]) / gdp_pivoted[1990]\n",
    "print(gdp_pivoted)"
   ]
  },
  {
   "cell_type": "code",
   "execution_count": 27,
   "id": "4967b1d5",
   "metadata": {},
   "outputs": [
    {
     "name": "stdout",
     "output_type": "stream",
     "text": [
      "17\n"
     ]
    }
   ],
   "source": [
    "gdp_neg = gdp_pivoted[gdp_pivoted[\"Percent_Change\"] < 0]\n",
    "print(gdp_neg[\"Percent_Change\"].count())"
   ]
  },
  {
   "cell_type": "code",
   "execution_count": 39,
   "id": "775ee53b",
   "metadata": {},
   "outputs": [
    {
     "name": "stdout",
     "output_type": "stream",
     "text": [
      "Equatorial Guinea    2068.404561\n",
      "Name: Percent_Change, dtype: float64\n",
      "China    907.406281\n",
      "Name: Percent_Change, dtype: float64\n"
     ]
    }
   ],
   "source": [
    "print(gdp_pivoted[\"Percent_Change\"].sort_values(ascending = False)[:1])\n",
    "print(gdp_pivoted[\"Percent_Change\"].sort_values(ascending = False)[1:2])"
   ]
  },
  {
   "cell_type": "code",
   "execution_count": 37,
   "id": "9c69b07a",
   "metadata": {},
   "outputs": [
    {
     "data": {
      "text/plain": [
       "[<matplotlib.lines.Line2D at 0x1e0412fd880>]"
      ]
     },
     "execution_count": 37,
     "metadata": {},
     "output_type": "execute_result"
    },
    {
     "data": {
      "image/png": "[encoded data removed]",
      "text/plain": [
       "<Figure size 432x288 with 1 Axes>"
      ]
     },
     "metadata": {
      "needs_background": "light"
     },
     "output_type": "display_data"
    }
   ],
   "source": [
    "one_gdp_g = gdp_df[gdp_df[\"Country\"] == \"Equatorial Guinea\"]\n",
    "plt.plot(one_gdp_g[\"Year\"],one_gdp_g[\"GDP_Per_Capita\"])"
   ]
  },
  {
   "cell_type": "code",
   "execution_count": 40,
   "id": "2c2235f1",
   "metadata": {},
   "outputs": [
    {
     "data": {
      "text/plain": [
       "[<matplotlib.lines.Line2D at 0x1e04135df10>]"
      ]
     },
     "execution_count": 40,
     "metadata": {},
     "output_type": "execute_result"
    },
    {
     "data": {
      "image/png": "[encoded data removed]",
      "text/plain": [
       "<Figure size 432x288 with 1 Axes>"
      ]
     },
     "metadata": {
      "needs_background": "light"
     },
     "output_type": "display_data"
    }
   ],
   "source": [
    "two_gdp_g = gdp_df[gdp_df[\"Country\"] == \"China\"]\n",
    "plt.plot(two_gdp_g[\"Year\"],two_gdp_g[\"GDP_Per_Capita\"])"
   ]
  },
  {
   "cell_type": "code",
   "execution_count": 45,
   "id": "589290c3",
   "metadata": {},
   "outputs": [
    {
     "data": {
      "text/plain": [
       "[<matplotlib.lines.Line2D at 0x1e04146edc0>]"
      ]
     },
     "execution_count": 45,
     "metadata": {},
     "output_type": "execute_result"
    },
    {
     "data": {
      "image/png": "[encoded data removed]",
      "text/plain": [
       "<Figure size 432x288 with 1 Axes>"
      ]
     },
     "metadata": {
      "needs_background": "light"
     },
     "output_type": "display_data"
    }
   ],
   "source": [
    "plt.plot(two_gdp_g[\"Year\"],two_gdp_g[\"GDP_Per_Capita\"])\n",
    "plt.plot(one_gdp_g[\"Year\"],one_gdp_g[\"GDP_Per_Capita\"])"
   ]
  },
  {
   "cell_type": "code",
   "execution_count": null,
   "id": "75f2447c",
   "metadata": {},
   "outputs": [],
   "source": []
  },
  {
   "cell_type": "code",
   "execution_count": null,
   "id": "242b27d1",
   "metadata": {},
   "outputs": [],
   "source": []
  },
  {
   "cell_type": "code",
   "execution_count": null,
   "id": "96807b27",
   "metadata": {},
   "outputs": [],
   "source": [
    "%matplotlib inline\n"
   ]
  }
 ],
 "metadata": {
  "kernelspec": {
   "display_name": "Python 3",
   "language": "python",
   "name": "python3"
  },
  "language_info": {
   "codemirror_mode": {
    "name": "ipython",
    "version": 3
   },
   "file_extension": ".py",
   "mimetype": "text/x-python",
   "name": "python",
   "nbconvert_exporter": "python",
   "pygments_lexer": "ipython3",
   "version": "3.8.8"
  }
 },
 "nbformat": 4,
 "nbformat_minor": 5
}
